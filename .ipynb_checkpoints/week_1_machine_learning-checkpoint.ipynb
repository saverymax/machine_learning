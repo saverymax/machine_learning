{
 "cells": [
  {
   "cell_type": "markdown",
   "metadata": {},
   "source": [
    "python exercises"
   ]
  },
  {
   "cell_type": "code",
   "execution_count": 3,
   "metadata": {
    "collapsed": true
   },
   "outputs": [],
   "source": [
    "a = \"the quick stuff jumps and stuff\"\n",
    "b = 1234567890.0"
   ]
  },
  {
   "cell_type": "markdown",
   "metadata": {},
   "source": [
    "print a in all upper case"
   ]
  },
  {
   "cell_type": "code",
   "execution_count": 9,
   "metadata": {},
   "outputs": [
    {
     "name": "stdout",
     "output_type": "stream",
     "text": [
      "THE QUICK STUFF JUMPS AND STUFF\n"
     ]
    }
   ],
   "source": [
    "print(a.upper())"
   ]
  },
  {
   "cell_type": "markdown",
   "metadata": {},
   "source": [
    "print every other letter in a upper case"
   ]
  },
  {
   "cell_type": "code",
   "execution_count": 16,
   "metadata": {},
   "outputs": [
    {
     "name": "stdout",
     "output_type": "stream",
     "text": [
      "ThE QuIcK StUfF JuMpS AnD StUfF\n"
     ]
    }
   ],
   "source": [
    "def CaSe(sentence):\n",
    "    edited_sentence = \"\"\n",
    "    every_other = True\n",
    "    for letter in sentence:\n",
    "        if every_other:\n",
    "            edited_sentence += letter.upper()\n",
    "        else:\n",
    "            edited_sentence += letter\n",
    "        \n",
    "        if letter != \"\":\n",
    "            every_other = not every_other\n",
    "        \n",
    "    return(edited_sentence)\n",
    "            \n",
    "    \n",
    "print(CaSe(a))       "
   ]
  },
  {
   "cell_type": "markdown",
   "metadata": {},
   "source": [
    "Print a in reverse"
   ]
  },
  {
   "cell_type": "code",
   "execution_count": 20,
   "metadata": {},
   "outputs": [
    {
     "name": "stdout",
     "output_type": "stream",
     "text": [
      "ffuts dna spmuj ffuts kciuq eht\n"
     ]
    }
   ],
   "source": [
    "print(a[::-1])"
   ]
  },
  {
   "cell_type": "markdown",
   "metadata": {},
   "source": [
    "Print a with the words reversed but in the same order"
   ]
  },
  {
   "cell_type": "code",
   "execution_count": 55,
   "metadata": {
    "scrolled": true
   },
   "outputs": [
    {
     "name": "stdout",
     "output_type": "stream",
     "text": [
      "['the', 'quick', 'stuff', 'jumps', 'and', 'stuff']\n",
      "eht kciuq ffuts spmuj dna ffuts\n"
     ]
    }
   ],
   "source": [
    "words = a.split()\n",
    "# .join reverses .split\n",
    "print(\" \".join(word[::-1]for word in words))"
   ]
  },
  {
   "cell_type": "markdown",
   "metadata": {},
   "source": [
    "Print variable b in sci. not. with 4 decimal places "
   ]
  },
  {
   "cell_type": "code",
   "execution_count": 18,
   "metadata": {},
   "outputs": [
    {
     "name": "stdout",
     "output_type": "stream",
     "text": [
      "1.2346E+09\n"
     ]
    }
   ],
   "source": [
    "print(\"{:.4E}\".format(b))"
   ]
  },
  {
   "cell_type": "code",
   "execution_count": 3,
   "metadata": {
    "collapsed": true
   },
   "outputs": [],
   "source": [
    "people = [{'name': 'Bob', 'age': 35}, \n",
    "          {'name': 'Alice', 'age': 30}, \n",
    "          {'name': 'Eve', 'age': 20},\n",
    "          {'name': 'Gail', 'age': 30},\n",
    "          {'name': 'Dennis', 'age': 25},\n",
    "          {'name': 'Charlie', 'age': 35}, \n",
    "          {'name': 'Fred', 'age': 25},]"
   ]
  },
  {
   "cell_type": "markdown",
   "metadata": {},
   "source": [
    "print the items in people as comma seperated values"
   ]
  },
  {
   "cell_type": "code",
   "execution_count": 4,
   "metadata": {},
   "outputs": [
    {
     "name": "stdout",
     "output_type": "stream",
     "text": [
      "Bob, 35\n",
      "Alice, 30\n",
      "Eve, 20\n",
      "Gail, 30\n",
      "Dennis, 25\n",
      "Charlie, 35\n",
      "Fred, 25\n"
     ]
    }
   ],
   "source": [
    "for person in people:\n",
    "    print(\"%s, %s\" % (person['name'],person['age']))"
   ]
  },
  {
   "cell_type": "markdown",
   "metadata": {},
   "source": [
    "Sort people so that they are ordered by age, and print\n",
    "\n"
   ]
  },
  {
   "cell_type": "code",
   "execution_count": 13,
   "metadata": {},
   "outputs": [
    {
     "name": "stdout",
     "output_type": "stream",
     "text": [
      "[{'name': 'Eve', 'age': 20}, {'name': 'Dennis', 'age': 25}, {'name': 'Fred', 'age': 25}, {'name': 'Alice', 'age': 30}, {'name': 'Gail', 'age': 30}, {'name': 'Bob', 'age': 35}, {'name': 'Charlie', 'age': 35}]\n"
     ]
    }
   ],
   "source": [
    "sorted_people = sorted(people, key=lambda people: people['age'])\n",
    "print(sorted_people)"
   ]
  },
  {
   "cell_type": "markdown",
   "metadata": {},
   "source": [
    "Sort people so that they are ordered by age first, and then their names, i.e. Bob and Charlie should be next to each other due to their ages with Bob first due to his name."
   ]
  },
  {
   "cell_type": "code",
   "execution_count": null,
   "metadata": {
    "collapsed": true
   },
   "outputs": [],
   "source": [
    "# looks like sorted_people is already sorted that way. "
   ]
  },
  {
   "cell_type": "markdown",
   "metadata": {},
   "source": [
    "Write a function that returns the first n prime numbers    \n",
    "Given a list of coordinates calculate the distance using the (Euclidean distance)[https://en.wikipedia.org/wiki/Euclidean_distance]\n",
    "Given a list of coordinates arrange them in such a way that the distance traveled is minimized (the itertools module may be useful).\n",
    "\n"
   ]
  },
  {
   "cell_type": "code",
   "execution_count": null,
   "metadata": {
    "collapsed": true
   },
   "outputs": [],
   "source": [
    "coords = [(0,0), (10,5), (10,10), (5,10), (3,3), (3,7), (12,3), (10,11)]"
   ]
  },
  {
   "cell_type": "code",
   "execution_count": null,
   "metadata": {
    "collapsed": true
   },
   "outputs": [],
   "source": []
  },
  {
   "cell_type": "markdown",
   "metadata": {
    "collapsed": true
   },
   "source": [
    "Print the standard deviation of each row in a numpy array"
   ]
  },
  {
   "cell_type": "code",
   "execution_count": 43,
   "metadata": {},
   "outputs": [
    {
     "name": "stdout",
     "output_type": "stream",
     "text": [
      "[ 56.62155067  69.21387144  28.02570249  58.04618851  45.26367197]\n"
     ]
    }
   ],
   "source": [
    "import numpy as np\n",
    "np.random.seed(0)\n",
    "random_matrix = np.random.randint(0, 200, size=(5,5))\n",
    "print(random_matrix.std(axis=1))"
   ]
  },
  {
   "cell_type": "markdown",
   "metadata": {},
   "source": [
    "Print only the values greater than 90 in a numpy array"
   ]
  },
  {
   "cell_type": "code",
   "execution_count": 32,
   "metadata": {},
   "outputs": [
    {
     "name": "stdout",
     "output_type": "stream",
     "text": [
      "[172 117 192 195 103 140 193 174 165]\n"
     ]
    }
   ],
   "source": [
    "print(random_matrix[random_matrix > 90])"
   ]
  },
  {
   "cell_type": "markdown",
   "metadata": {},
   "source": [
    "From a numpy array display the values in each row in a seperate plot (the subplots method may be useful)"
   ]
  },
  {
   "cell_type": "code",
   "execution_count": 62,
   "metadata": {},
   "outputs": [
    {
     "data": {
      "image/png": "[encoded data removed]",
      "text/plain": [
       "<matplotlib.figure.Figure at 0x7f8e87bad550>"
      ]
     },
     "metadata": {},
     "output_type": "display_data"
    }
   ],
   "source": [
    "import matplotlib.pyplot as plt\n",
    "practice_figures, practice_axis = plt.subplots(5, figsize = (10,10))\n",
    "for i in range(5):\n",
    "    practice_axis[i].plot(random_matrix[i,])\n",
    "plt.show()"
   ]
  }
 ],
 "metadata": {
  "anaconda-cloud": {},
  "kernelspec": {
   "display_name": "Python 3",
   "language": "python",
   "name": "python3"
  },
  "language_info": {
   "codemirror_mode": {
    "name": "ipython",
    "version": 3
   },
   "file_extension": ".py",
   "mimetype": "text/x-python",
   "name": "python",
   "nbconvert_exporter": "python",
   "pygments_lexer": "ipython3",
   "version": "3.6.1"
  }
 },
 "nbformat": 4,
 "nbformat_minor": 2
}
