{
 "cells": [
  {
   "cell_type": "markdown",
   "metadata": {},
   "source": [
    "Part A: Create a class"
   ]
  },
  {
   "cell_type": "code",
   "execution_count": 32,
   "metadata": {},
   "outputs": [],
   "source": [
    "class Rectangle:\n",
    "    \n",
    "    def __init__(self, height, width):\n",
    "        \"\"\"Initialize a new rectangle object\"\"\"\n",
    "        \n",
    "        self.height = height\n",
    "        self.width = width\n",
    "        \n",
    "    def get_size(self):\n",
    "        \"\"\"Return the size of the rectangle\"\"\"\n",
    "        \n",
    "        return(self.height*self.width)\n",
    "            "
   ]
  },
  {
   "cell_type": "code",
   "execution_count": 34,
   "metadata": {},
   "outputs": [
    {
     "data": {
      "text/plain": [
       "51.0"
      ]
     },
     "execution_count": 34,
     "metadata": {},
     "output_type": "execute_result"
    }
   ],
   "source": [
    "my_rectangle = Rectangle(5, 10.2)\n",
    "my_rectangle.get_size()"
   ]
  },
  {
   "cell_type": "code",
   "execution_count": 58,
   "metadata": {},
   "outputs": [],
   "source": [
    "assert Rectangle(10, 10).get_size() == 100\n",
    "assert Rectangle(10, 30).get_size() == 300\n",
    "assert Rectangle(28, 2).get_size() == 56\n",
    "assert Rectangle(10, 10).get_size() == 100"
   ]
  },
  {
   "cell_type": "markdown",
   "metadata": {},
   "source": [
    "Part B: Abstraction, inheritance, and polymorphism"
   ]
  },
  {
   "cell_type": "code",
   "execution_count": 51,
   "metadata": {},
   "outputs": [],
   "source": [
    "class Pet:\n",
    "    def __init__(self, name):\n",
    "        \"\"\"Initialize a new pet\"\"\"\n",
    "        \n",
    "        self.name = name\n",
    "        \n",
    "    def make_noise(self):\n",
    "        \"\"\"The pets noise. Will be overwritten by the inheriting class\"\"\"\n",
    "        \n",
    "        pass"
   ]
  },
  {
   "cell_type": "code",
   "execution_count": 64,
   "metadata": {
    "collapsed": true
   },
   "outputs": [],
   "source": [
    "class Dog(Pet):\n",
    "    \"\"\"Initialize a dog\"\"\"\n",
    "    \n",
    "    def make_noise(self):\n",
    "        \"\"\"Time to bark\"\"\"\n",
    "        return(\"bark\")"
   ]
  },
  {
   "cell_type": "code",
   "execution_count": 65,
   "metadata": {
    "collapsed": true
   },
   "outputs": [],
   "source": [
    "class Cat(Pet):\n",
    "    \"\"\"Initialize a cat\"\"\"\n",
    "    \n",
    "    def make_noise(self):\n",
    "        \"\"\"Time to meow\"\"\"\n",
    "        return(\"meow\")"
   ]
  },
  {
   "cell_type": "code",
   "execution_count": 70,
   "metadata": {},
   "outputs": [],
   "source": [
    "pet1 = Dog(\"sherlock\")\n",
    "assert pet1.make_noise() == \"bark\"\n",
    "assert pet1.name == \"sherlock\"\n",
    "\n",
    "pet2 = Cat(\"rex\")\n",
    "assert pet2.make_noise() == \"meow\"\n",
    "assert pet2.name == \"rex\""
   ]
  },
  {
   "cell_type": "markdown",
   "metadata": {},
   "source": [
    "Part C: Obect state"
   ]
  },
  {
   "cell_type": "code",
   "execution_count": 98,
   "metadata": {},
   "outputs": [],
   "source": [
    "class BankAccount:\n",
    "    \n",
    "    def __init__(self): \n",
    "        \"\"\"Initialize a bank account\"\"\"\n",
    "        self.account_balance = 0\n",
    "    \n",
    "    def deposit(self, deposit):\n",
    "        \"\"\"Deposit money into the account\"\"\"\n",
    "        self.account_balance += deposit\n",
    "        \n",
    "    def withdraw(self, withdrawal):\n",
    "        \"\"\"Withdraw money from the account\"\"\"\n",
    "        self.account_balance -= withdrawal\n",
    "        \n",
    "    def check_balance(self):\n",
    "        \"Check the balance of the account\"\n",
    "        return(self.account_balance)"
   ]
  },
  {
   "cell_type": "code",
   "execution_count": 96,
   "metadata": {},
   "outputs": [
    {
     "data": {
      "text/plain": [
       "0"
      ]
     },
     "execution_count": 96,
     "metadata": {},
     "output_type": "execute_result"
    }
   ],
   "source": [
    "max_acc = BankAccount()\n",
    "max_acc.deposit(50)\n",
    "max_acc.check_balance()\n",
    "max_acc.withdrawal(50)\n",
    "max_acc.check_balance()"
   ]
  },
  {
   "cell_type": "code",
   "execution_count": null,
   "metadata": {
    "collapsed": true
   },
   "outputs": [],
   "source": [
    "acc = BankAccount()\n",
    "acc.deposit(100.0)\n",
    "acc.deposit(200.0)\n",
    "acc.withdraw(250.0)\n",
    "assert acc.check_balance() == 50.0\n",
    "acc.withdraw(10.0)\n",
    "acc.deposit(30.0)\n",
    "assert acc.check_balance() == 70.0\n",
    "assert len(BankAccount.deposit.__doc__) > 10\n",
    "assert len(BankAccount.withdraw.__doc__) > 10"
   ]
  },
  {
   "cell_type": "markdown",
   "metadata": {},
   "source": [
    "Part D: Inheritance and polymorphisms"
   ]
  },
  {
   "cell_type": "code",
   "execution_count": 117,
   "metadata": {},
   "outputs": [],
   "source": [
    "class DebitAccount(BankAccount):\n",
    "               \n",
    "    def withdraw(self, withdrawal):\n",
    "        \"\"\"Withdraw money from the account, as long as there are sufficient funds\"\"\"\n",
    "        if self.account_balance - withdrawal >= 0:\n",
    "            self.account_balance -= withdrawal\n",
    "            return(True)\n",
    "        else:\n",
    "            return(False)"
   ]
  },
  {
   "cell_type": "code",
   "execution_count": 116,
   "metadata": {},
   "outputs": [
    {
     "data": {
      "text/plain": [
       "40.0"
      ]
     },
     "execution_count": 116,
     "metadata": {},
     "output_type": "execute_result"
    }
   ],
   "source": [
    "card = DebitAccount()\n",
    "card.deposit(50)\n",
    "debit.check_balance()\n",
    "debit.withdraw(90.0)\n",
    "debit.check_balance()"
   ]
  },
  {
   "cell_type": "code",
   "execution_count": 118,
   "metadata": {},
   "outputs": [],
   "source": [
    "assert issubclass(DebitAccount, BankAccount)\n",
    "\n",
    "debit = DebitAccount()\n",
    "debit.deposit(30.0)\n",
    "debit.deposit(20.0)\n",
    "assert debit.check_balance() == 50.0\n",
    "result = debit.withdraw(10.0)\n",
    "assert debit.check_balance() == 40.0\n",
    "assert result is True\n",
    "\n",
    "result = debit.withdraw(90.0)\n",
    "assert debit.check_balance() == 40.0\n",
    "assert result is False\n"
   ]
  }
 ],
 "metadata": {
  "kernelspec": {
   "display_name": "Python 3",
   "language": "python",
   "name": "python3"
  },
  "language_info": {
   "codemirror_mode": {
    "name": "ipython",
    "version": 3
   },
   "file_extension": ".py",
   "mimetype": "text/x-python",
   "name": "python",
   "nbconvert_exporter": "python",
   "pygments_lexer": "ipython3",
   "version": "3.6.1"
  }
 },
 "nbformat": 4,
 "nbformat_minor": 2
}
