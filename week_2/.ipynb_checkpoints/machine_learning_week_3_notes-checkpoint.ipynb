{
 "cells": [
  {
   "cell_type": "markdown",
   "metadata": {},
   "source": [
    "notes from previous classes:\n",
    "\n",
    "python:\n",
    "sets \n",
    "    collapse all duplicates\n",
    "    not indexable\n",
    "    .add()\n",
    "\n",
    "data type iterators?\n",
    "\n",
    "assert statements\n",
    "\n",
    "programming paradigm\n",
    "conceptual structure of program\n",
    "    procedural  \n",
    "        c, go\n",
    "    object oriented\n",
    "       \n",
    "use self.__something to create a hidden attribute\n",
    "but I can still display it in a method, but can't access it from outside\n",
    "\n",
    "del removes from list\n"
   ]
  },
  {
   "cell_type": "code",
   "execution_count": 7,
   "metadata": {},
   "outputs": [
    {
     "ename": "AttributeError",
     "evalue": "'str' object has no attribute 'copy'",
     "output_type": "error",
     "traceback": [
      "\u001b[0;31m---------------------------------------------------------------------------\u001b[0m",
      "\u001b[0;31mAttributeError\u001b[0m                            Traceback (most recent call last)",
      "\u001b[0;32m<ipython-input-7-5f2134614617>\u001b[0m in \u001b[0;36m<module>\u001b[0;34m()\u001b[0m\n\u001b[1;32m      5\u001b[0m     \u001b[0;32mreturn\u001b[0m \u001b[0ma\u001b[0m\u001b[0;34m\u001b[0m\u001b[0m\n\u001b[1;32m      6\u001b[0m \u001b[0;34m\u001b[0m\u001b[0m\n\u001b[0;32m----> 7\u001b[0;31m \u001b[0mc\u001b[0m \u001b[0;34m=\u001b[0m \u001b[0ma\u001b[0m\u001b[0;34m.\u001b[0m\u001b[0mcopy\u001b[0m\u001b[0;34m(\u001b[0m\u001b[0;34m)\u001b[0m\u001b[0;34m\u001b[0m\u001b[0m\n\u001b[0m\u001b[1;32m      8\u001b[0m \u001b[0md\u001b[0m \u001b[0;34m=\u001b[0m \u001b[0ma\u001b[0m\u001b[0;34m\u001b[0m\u001b[0m\n\u001b[1;32m      9\u001b[0m \u001b[0ma\u001b[0m \u001b[0;34m=\u001b[0m \u001b[0mfoo\u001b[0m\u001b[0;34m(\u001b[0m\u001b[0ma\u001b[0m\u001b[0;34m)\u001b[0m\u001b[0;34m\u001b[0m\u001b[0m\n",
      "\u001b[0;31mAttributeError\u001b[0m: 'str' object has no attribute 'copy'"
     ]
    }
   ],
   "source": [
    "a = 'f'\n",
    "\n",
    "def foo(a):\n",
    "    a.join('f')\n",
    "    return a\n",
    "\n",
    "c = a.copy()\n",
    "d = a \n",
    "a = foo(a)\n",
    "print(c,d,a)\n"
   ]
  },
  {
   "cell_type": "markdown",
   "metadata": {},
   "source": [
    "the way you use the code defines the way you write/name it\n",
    "\n",
    "use less code"
   ]
  },
  {
   "cell_type": "markdown",
   "metadata": {},
   "source": [
    "Class stuff\n",
    "\n",
    "madeupclass.stuffattopofclass()\n",
    "    changes class attribute\n",
    "    \n",
    "class methods:\n",
    "__new__() make a new object if hard for some reason\n",
    "__delete__() delete object\n",
    "def __eq__(self, other)\n",
    "    to compare two objects of same class\n"
   ]
  },
  {
   "cell_type": "code",
   "execution_count": null,
   "metadata": {
    "collapsed": true
   },
   "outputs": [],
   "source": [
    "Useful ways to see what things are\n",
    "dir()\n",
    "locals(), globals()"
   ]
  }
 ],
 "metadata": {
  "kernelspec": {
   "display_name": "Python 3",
   "language": "python",
   "name": "python3"
  },
  "language_info": {
   "codemirror_mode": {
    "name": "ipython",
    "version": 3
   },
   "file_extension": ".py",
   "mimetype": "text/x-python",
   "name": "python",
   "nbconvert_exporter": "python",
   "pygments_lexer": "ipython3",
   "version": "3.6.1"
  }
 },
 "nbformat": 4,
 "nbformat_minor": 2
}
