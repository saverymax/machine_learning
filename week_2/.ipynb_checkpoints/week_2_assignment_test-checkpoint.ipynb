{
 "cells": [
  {
   "cell_type": "markdown",
   "metadata": {},
   "source": [
    "Part A: Create a class"
   ]
  },
  {
   "cell_type": "code",
   "execution_count": 32,
   "metadata": {},
   "outputs": [],
   "source": [
    "class Rectangle:\n",
    "    \n",
    "    def __init__(self, height, width):\n",
    "        \"\"\"Initialize a new rectangle object\"\"\"\n",
    "        \n",
    "        self.height = height\n",
    "        self.width = width\n",
    "        \n",
    "    def get_size(self):\n",
    "        \"\"\"Return the size of the rectangle\"\"\"\n",
    "        \n",
    "        return(self.height*self.width)\n",
    "            "
   ]
  },
  {
   "cell_type": "code",
   "execution_count": 34,
   "metadata": {},
   "outputs": [
    {
     "data": {
      "text/plain": [
       "51.0"
      ]
     },
     "execution_count": 34,
     "metadata": {},
     "output_type": "execute_result"
    }
   ],
   "source": [
    "my_rectangle = Rectangle(5, 10.2)\n",
    "my_rectangle.get_size()"
   ]
  },
  {
   "cell_type": "code",
   "execution_count": 58,
   "metadata": {},
   "outputs": [],
   "source": [
    "assert Rectangle(10, 10).get_size() == 100\n",
    "assert Rectangle(10, 30).get_size() == 300\n",
    "assert Rectangle(28, 2).get_size() == 56\n",
    "assert Rectangle(10, 10).get_size() == 100"
   ]
  },
  {
   "cell_type": "markdown",
   "metadata": {},
   "source": [
    "Part B: Abstraction, inheritance, and polymorphism"
   ]
  },
  {
   "cell_type": "code",
   "execution_count": 51,
   "metadata": {},
   "outputs": [],
   "source": [
    "class Pet:\n",
    "    def __init__(self, name):\n",
    "        \"\"\"Initialize a new pet\"\"\"\n",
    "        \n",
    "        self.name = name\n",
    "        \n",
    "    def make_noise(self):\n",
    "        \"\"\"The pets noise. Will be overwritten by the inheriting class\"\"\"\n",
    "        \n",
    "        pass"
   ]
  },
  {
   "cell_type": "code",
   "execution_count": 64,
   "metadata": {
    "collapsed": true
   },
   "outputs": [],
   "source": [
    "class Dog(Pet):\n",
    "    \"\"\"Initialize a dog\"\"\"\n",
    "    \n",
    "    def make_noise(self):\n",
    "        \"\"\"Time to bark\"\"\"\n",
    "        return(\"bark\")"
   ]
  },
  {
   "cell_type": "code",
   "execution_count": 65,
   "metadata": {
    "collapsed": true
   },
   "outputs": [],
   "source": [
    "class Cat(Pet):\n",
    "    \"\"\"Initialize a cat\"\"\"\n",
    "    \n",
    "    def make_noise(self):\n",
    "        \"\"\"Time to meow\"\"\"\n",
    "        return(\"meow\")"
   ]
  },
  {
   "cell_type": "code",
   "execution_count": 70,
   "metadata": {},
   "outputs": [],
   "source": [
    "pet1 = Dog(\"sherlock\")\n",
    "assert pet1.make_noise() == \"bark\"\n",
    "assert pet1.name == \"sherlock\"\n",
    "\n",
    "pet2 = Cat(\"rex\")\n",
    "assert pet2.make_noise() == \"meow\"\n",
    "assert pet2.name == \"rex\""
   ]
  },
  {
   "cell_type": "markdown",
   "metadata": {},
   "source": [
    "Part C: Obect state"
   ]
  },
  {
   "cell_type": "code",
   "execution_count": null,
   "metadata": {
    "collapsed": true
   },
   "outputs": [],
   "source": [
    "class MyClass:\n",
    "    \"\"\"\n",
    "    This is where documentation on what\n",
    "    MyClass does should go.\n",
    "    \"\"\"\n",
    "\n",
    "    def my_method(self):\n",
    "        \"\"\"\n",
    "        This is where documentation on what \n",
    "        my_method does should go.\n",
    "        \"\"\"\n",
    "        pass\n"
   ]
  }
 ],
 "metadata": {
  "kernelspec": {
   "display_name": "Python 3",
   "language": "python",
   "name": "python3"
  },
  "language_info": {
   "codemirror_mode": {
    "name": "ipython",
    "version": 3
   },
   "file_extension": ".py",
   "mimetype": "text/x-python",
   "name": "python",
   "nbconvert_exporter": "python",
   "pygments_lexer": "ipython3",
   "version": "3.6.1"
  }
 },
 "nbformat": 4,
 "nbformat_minor": 2
}
