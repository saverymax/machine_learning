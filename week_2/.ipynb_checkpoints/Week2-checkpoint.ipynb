{
 "cells": [
  {
   "cell_type": "markdown",
   "metadata": {
    "slideshow": {
     "slide_type": "slide"
    }
   },
   "source": [
    "# Week 2\n",
    "## Programming Paradigms and OOP\n",
    "  \n",
    "  \n",
    "Ayal Gussow, 02/08/2018"
   ]
  },
  {
   "cell_type": "markdown",
   "metadata": {
    "slideshow": {
     "slide_type": "slide"
    }
   },
   "source": [
    "# Basic Outline\n",
    "  \n",
    "  \n",
    "* What are programming paradigms? \n",
    "* Object-Oriented Programming\n",
    "* In-Class / HW Assignment"
   ]
  },
  {
   "cell_type": "markdown",
   "metadata": {
    "slideshow": {
     "slide_type": "slide"
    }
   },
   "source": [
    "# What does \"programming paradigm\" mean?\n",
    "\n"
   ]
  },
  {
   "cell_type": "markdown",
   "metadata": {
    "slideshow": {
     "slide_type": "fragment"
    }
   },
   "source": [
    "* Really, it's a convenience for the programmer"
   ]
  },
  {
   "cell_type": "markdown",
   "metadata": {
    "slideshow": {
     "slide_type": "fragment"
    }
   },
   "source": [
    "* It's how the programmer structures and writes a program"
   ]
  },
  {
   "cell_type": "markdown",
   "metadata": {
    "slideshow": {
     "slide_type": "fragment"
    }
   },
   "source": [
    "* For our purposes, the paradigm does not effect what your program does"
   ]
  },
  {
   "cell_type": "markdown",
   "metadata": {
    "slideshow": {
     "slide_type": "slide"
    }
   },
   "source": [
    "# Let's see an example: procedural"
   ]
  },
  {
   "cell_type": "markdown",
   "metadata": {
    "slideshow": {
     "slide_type": "fragment"
    }
   },
   "source": [
    "* Conceptually simple: instructions happen, in order"
   ]
  },
  {
   "cell_type": "markdown",
   "metadata": {
    "slideshow": {
     "slide_type": "fragment"
    }
   },
   "source": [
    "* Data are stored in variables"
   ]
  },
  {
   "cell_type": "markdown",
   "metadata": {
    "slideshow": {
     "slide_type": "fragment"
    }
   },
   "source": [
    "* An emphasis on modular sub-routines that accept data as arguments (scope)"
   ]
  },
  {
   "cell_type": "code",
   "execution_count": null,
   "metadata": {
    "collapsed": true,
    "slideshow": {
     "slide_type": "slide"
    }
   },
   "outputs": [],
   "source": [
    "location = \"Bethesda\"\n",
    "zip_code = 20892\n",
    "elevation = 71.10\n",
    "\n",
    "print(\n",
    "    \"My location is \",\n",
    "    location,\n",
    "    \". My elevation is \",\n",
    "    elevation,\n",
    "    \". My zip code is \",\n",
    "    zip_code,\n",
    "    \".\",\n",
    "    sep=\"\"\n",
    ")"
   ]
  },
  {
   "cell_type": "code",
   "execution_count": 1,
   "metadata": {
    "collapsed": true,
    "slideshow": {
     "slide_type": "slide"
    }
   },
   "outputs": [],
   "source": [
    "\"\"\"\n",
    "This module contains functions for checking whether a number is even.\n",
    "\"\"\"\n",
    "def is_even(n):\n",
    "    \"\"\"Returns true if n is even, False otherwise\"\"\"\n",
    "    assert isinstance(n, int), \"This function requires an integer!\"\n",
    "    return not n % 2    "
   ]
  },
  {
   "cell_type": "code",
   "execution_count": 2,
   "metadata": {},
   "outputs": [
    {
     "name": "stdout",
     "output_type": "stream",
     "text": [
      "It's even!\n"
     ]
    }
   ],
   "source": [
    "# Note that it's repeatable, so:\n",
    "#     1) Assertion is always run\n",
    "#     2) Less likely to get error\n",
    "#     3) If error, easy to fix in one place\n",
    "\n",
    "my_number = 10\n",
    "\n",
    "if is_even(my_number):\n",
    "    print(\"It's even!\")\n",
    "else:\n",
    "    print(\"It's odd!\")"
   ]
  },
  {
   "cell_type": "markdown",
   "metadata": {
    "slideshow": {
     "slide_type": "slide"
    }
   },
   "source": [
    "# A more complex example: people\n",
    "\n",
    "* Let's say you're writing an NBA video game. How would you store people?\n"
   ]
  },
  {
   "cell_type": "code",
   "execution_count": 3,
   "metadata": {
    "slideshow": {
     "slide_type": "slide"
    }
   },
   "outputs": [
    {
     "name": "stdout",
     "output_type": "stream",
     "text": [
      "{'first_name': 'LeBron', 'last_name': 'James', 'nickname': 'King James', 'team': 'Cleveland Cavaliers'}\n"
     ]
    }
   ],
   "source": [
    "# Let's write some code for an NBA video game\n",
    "lebron = {\n",
    "    'first_name': 'LeBron',\n",
    "    'last_name': 'James',\n",
    "    'nickname': \"King James\",\n",
    "    'team': 'Cleveland Cavaliers'\n",
    "}\n",
    "print(lebron)"
   ]
  },
  {
   "cell_type": "code",
   "execution_count": 4,
   "metadata": {
    "slideshow": {
     "slide_type": "slide"
    }
   },
   "outputs": [
    {
     "name": "stdout",
     "output_type": "stream",
     "text": [
      "LeBron \"King James\" James\n"
     ]
    }
   ],
   "source": [
    "# What if we want a function to print player name?\n",
    "def print_player_name(player):\n",
    "    \"\"\"Print the player's name. The player parameter must be a dictionary.\"\"\"\n",
    "    print(player[\"first_name\"], ' \"', player[\"nickname\"], '\" ', player[\"last_name\"],\n",
    "          sep=\"\")\n",
    "\n",
    "lebron = {\n",
    "    'first_name': 'LeBron', 'last_name': 'James', 'nickname': \"King James\", 'team': 'Cleveland Cavaliers'\n",
    "}\n",
    "\n",
    "print_player_name(lebron)"
   ]
  },
  {
   "cell_type": "markdown",
   "metadata": {
    "slideshow": {
     "slide_type": "slide"
    }
   },
   "source": [
    "# Last weeks assignment was also a good example\n",
    "\n",
    "```python\n",
    "people = [\n",
    "    {'name': 'Charlie', 'age': 35}, \n",
    "    {'name': 'Alice', 'age': 30}, \n",
    "    {'name': 'Eve', 'age': 20},\n",
    "    {'name': 'Gail', 'age': 30},\n",
    "    {'name': 'Dennis', 'age': 25},\n",
    "    {'name': 'Bob', 'age': 35},\n",
    "    {'name': 'Fred', 'age': 25}]\n",
    "```"
   ]
  },
  {
   "cell_type": "markdown",
   "metadata": {
    "slideshow": {
     "slide_type": "slide"
    }
   },
   "source": [
    "# Procedural languages\n",
    "\n",
    "### Note: The programming paradigm is part of the language\n",
    "\n",
    "* Procedural languages: C, Fortran, GO, Python (multiple paradigms)\n"
   ]
  },
  {
   "cell_type": "markdown",
   "metadata": {
    "slideshow": {
     "slide_type": "slide"
    }
   },
   "source": [
    "### Downsides:\n",
    "* Can get very messy: \n",
    "    * remembering attributes\n",
    "    * function expectations\n",
    "    * remembering which functions apply to which data\n",
    "    * creating new instances\n",
    "* OOP stores everything under one unified roof"
   ]
  },
  {
   "cell_type": "markdown",
   "metadata": {
    "slideshow": {
     "slide_type": "slide"
    }
   },
   "source": [
    "# OOP Conceptually\n"
   ]
  },
  {
   "cell_type": "markdown",
   "metadata": {
    "slideshow": {
     "slide_type": "fragment"
    }
   },
   "source": [
    "## Encapsulation!\n"
   ]
  },
  {
   "cell_type": "markdown",
   "metadata": {
    "slideshow": {
     "slide_type": "fragment"
    }
   },
   "source": [
    "* Bundling of data with the methods that operate on that data.\n",
    "* Hide the values or state of data inside the class with public methods to access the values."
   ]
  },
  {
   "cell_type": "markdown",
   "metadata": {
    "slideshow": {
     "slide_type": "slide"
    }
   },
   "source": [
    "# OOP Conceptually: NBAPlayer class"
   ]
  },
  {
   "cell_type": "markdown",
   "metadata": {
    "slideshow": {
     "slide_type": "fragment"
    }
   },
   "source": [
    "#### Attributes\n",
    "1. first_name\n",
    "2. last_name\n",
    "3. nickname"
   ]
  },
  {
   "cell_type": "markdown",
   "metadata": {
    "slideshow": {
     "slide_type": "slide"
    }
   },
   "source": [
    "# OOP Conceptually: NBAPlayer class"
   ]
  },
  {
   "cell_type": "markdown",
   "metadata": {
    "slideshow": {
     "slide_type": "fragment"
    }
   },
   "source": [
    "#### Functions\n",
    "1. print_name"
   ]
  },
  {
   "cell_type": "markdown",
   "metadata": {
    "slideshow": {
     "slide_type": "slide"
    }
   },
   "source": [
    "# Terminology\n",
    "* Class - the overall structure description (e.g. \"Player\").\n",
    "* Object / Instance - an instance of the class (e.g. \"LeBron\").\n",
    "* Constructors / Destroyers\n",
    "* \"self\" - a reference to the class instance."
   ]
  },
  {
   "cell_type": "code",
   "execution_count": 5,
   "metadata": {
    "collapsed": true,
    "slideshow": {
     "slide_type": "slide"
    }
   },
   "outputs": [],
   "source": [
    "class NBAPlayer:\n",
    "    \"\"\"This class represents an NBA player\"\"\"\n",
    "    def __init__(self,\n",
    "                 first_name,\n",
    "                 last_name,\n",
    "                 nickname):\n",
    "        \"\"\"Initialize an instance of the player class\"\"\"\n",
    "        self.first_name = first_name\n",
    "        self.last_name = last_name\n",
    "        self.nickname = nickname"
   ]
  },
  {
   "cell_type": "code",
   "execution_count": 10,
   "metadata": {
    "slideshow": {
     "slide_type": "slide"
    }
   },
   "outputs": [
    {
     "name": "stdout",
     "output_type": "stream",
     "text": [
      "Bron\n"
     ]
    }
   ],
   "source": [
    "class NBAPlayer:\n",
    "    \"\"\"This class represents an NBA player\"\"\"\n",
    "    def __init__(self,\n",
    "                 first_name,\n",
    "                 last_name,\n",
    "                 nickname):\n",
    "        \"\"\"Initialize an instance of the player class\"\"\"\n",
    "        self.first_name = first_name\n",
    "        self.last_name = last_name\n",
    "        self.nickname = nickname\n",
    "        \n",
    "lebron = NBAPlayer(\n",
    "            \"LeBron\",\n",
    "            \"James\",\n",
    "            \"King James\"\n",
    ")\n",
    "\n",
    "# print(lebron.nickname)\n",
    "# print(nickname)\n",
    "lebron.nickname = \"Bron\"\n",
    "print(lebron.nickname)"
   ]
  },
  {
   "cell_type": "code",
   "execution_count": 15,
   "metadata": {
    "slideshow": {
     "slide_type": "slide"
    }
   },
   "outputs": [
    {
     "data": {
      "text/plain": [
       "3"
      ]
     },
     "execution_count": 15,
     "metadata": {},
     "output_type": "execute_result"
    }
   ],
   "source": [
    "class NBAPlayer:\n",
    "    \"\"\"This class represents an NBA player\"\"\"\n",
    "    def __init__(self,\n",
    "                 first_name,\n",
    "                 last_name,\n",
    "                 nickname):\n",
    "        \"\"\"Initialize an instance of the player class\"\"\"\n",
    "        self.first_name = first_name\n",
    "        self.last_name = last_name\n",
    "        self.nickname = nickname\n",
    "    \n",
    "    def __len__(self):\n",
    "        return 3\n",
    "        \n",
    "    def print_name(self):\n",
    "        \"\"\"Print the player's name.\"\"\"\n",
    "        print(self.first_name, ' \"', self.nickname, '\" ', self.last_name, sep=\"\")\n",
    "        \n",
    "lebron = NBAPlayer(\"LeBron\", \"James\", \"King James\")\n",
    "\n",
    "len(lebron)"
   ]
  },
  {
   "cell_type": "code",
   "execution_count": 16,
   "metadata": {
    "slideshow": {
     "slide_type": "slide"
    }
   },
   "outputs": [
    {
     "name": "stdout",
     "output_type": "stream",
     "text": [
      "LeBron \"King James\" James\n",
      "Chris \"CP3\" Paul\n"
     ]
    }
   ],
   "source": [
    "lebron = NBAPlayer(\"LeBron\", \"James\", \"King James\")\n",
    "chris = NBAPlayer(\"Chris\", \"Paul\", \"CP3\")\n",
    "\n",
    "lebron.print_name()\n",
    "chris.print_name()"
   ]
  },
  {
   "cell_type": "markdown",
   "metadata": {
    "slideshow": {
     "slide_type": "slide"
    }
   },
   "source": [
    "# Terminology\n",
    "* Class - the overall structure description (e.g. \"NBAPlayer\").\n",
    "* Object / Instance - an instance of the class (e.g. \"LeBron\").\n",
    "* Constructors / Destroyers\n",
    "* \"self\" - a reference to the class instance.\n",
    "* Hidden variables and name mangling with \"\\_\\_\""
   ]
  },
  {
   "cell_type": "code",
   "execution_count": 19,
   "metadata": {
    "scrolled": true,
    "slideshow": {
     "slide_type": "slide"
    }
   },
   "outputs": [
    {
     "ename": "AttributeError",
     "evalue": "'NBAPlayer' object has no attribute '__team'",
     "output_type": "error",
     "traceback": [
      "\u001b[1;31m---------------------------------------------------------------------------\u001b[0m",
      "\u001b[1;31mAttributeError\u001b[0m                            Traceback (most recent call last)",
      "\u001b[1;32m<ipython-input-19-655c1159a1d1>\u001b[0m in \u001b[0;36m<module>\u001b[1;34m()\u001b[0m\n\u001b[0;32m     19\u001b[0m )\n\u001b[0;32m     20\u001b[0m \u001b[1;33m\u001b[0m\u001b[0m\n\u001b[1;32m---> 21\u001b[1;33m \u001b[0mprint\u001b[0m\u001b[1;33m(\u001b[0m\u001b[0mlebron\u001b[0m\u001b[1;33m.\u001b[0m\u001b[0m__team\u001b[0m\u001b[1;33m)\u001b[0m\u001b[1;33m\u001b[0m\u001b[0m\n\u001b[0m",
      "\u001b[1;31mAttributeError\u001b[0m: 'NBAPlayer' object has no attribute '__team'"
     ]
    }
   ],
   "source": [
    "class NBAPlayer:\n",
    "    \"\"\"This class represents an NBA player\"\"\"\n",
    "    def __init__(self,\n",
    "                 first_name,\n",
    "                 last_name,\n",
    "                 nickname,\n",
    "                 team):\n",
    "        \"\"\"Initialize an instance of the player class\"\"\"\n",
    "        self.first_name = first_name\n",
    "        self.last_name = last_name\n",
    "        self.nickname = nickname\n",
    "        self.__team = team\n",
    "        \n",
    "lebron = NBAPlayer(\n",
    "            \"LeBron\",\n",
    "            \"James\",\n",
    "            \"King James\",\n",
    "            \"Cleveland Cavaliers\"\n",
    ")\n",
    "\n",
    "print(lebron.__team)"
   ]
  },
  {
   "cell_type": "markdown",
   "metadata": {
    "slideshow": {
     "slide_type": "slide"
    }
   },
   "source": [
    "* Bundling of data with the methods that operate on that data.\n",
    "* Hide the values or state of data inside the class with public methods to access the values."
   ]
  },
  {
   "cell_type": "code",
   "execution_count": 22,
   "metadata": {
    "slideshow": {
     "slide_type": "slide"
    }
   },
   "outputs": [
    {
     "data": {
      "text/plain": [
       "['_NBAPlayer__team',\n",
       " '__class__',\n",
       " '__delattr__',\n",
       " '__dict__',\n",
       " '__dir__',\n",
       " '__doc__',\n",
       " '__eq__',\n",
       " '__format__',\n",
       " '__ge__',\n",
       " '__getattribute__',\n",
       " '__gt__',\n",
       " '__hash__',\n",
       " '__init__',\n",
       " '__init_subclass__',\n",
       " '__le__',\n",
       " '__lt__',\n",
       " '__module__',\n",
       " '__ne__',\n",
       " '__new__',\n",
       " '__reduce__',\n",
       " '__reduce_ex__',\n",
       " '__repr__',\n",
       " '__setattr__',\n",
       " '__sizeof__',\n",
       " '__str__',\n",
       " '__subclasshook__',\n",
       " '__weakref__',\n",
       " 'first_name',\n",
       " 'last_name',\n",
       " 'nickname',\n",
       " 'print_profile']"
      ]
     },
     "execution_count": 22,
     "metadata": {},
     "output_type": "execute_result"
    }
   ],
   "source": [
    "class NBAPlayer:\n",
    "    \"\"\"This class represents an NBA player\"\"\"\n",
    "    def __init__(self,\n",
    "                 first_name,\n",
    "                 last_name,\n",
    "                 nickname,\n",
    "                 team):\n",
    "        \"\"\"Initialize an instance of the player class\"\"\"\n",
    "        self.first_name = first_name\n",
    "        self.last_name = last_name\n",
    "        self.nickname = nickname\n",
    "        self.__team = team       \n",
    "lebron = NBAPlayer(\"LeBron\", \"James\", \"King James\", \"Cleveland Cavaliers\")\n",
    "\n",
    "dir(lebron)"
   ]
  },
  {
   "cell_type": "markdown",
   "metadata": {
    "slideshow": {
     "slide_type": "slide"
    }
   },
   "source": [
    "# Terminology\n",
    "* Class - the overall structure description (e.g. \"NBAPlayer\").\n",
    "* Object / Instance - an instance of the class (e.g. \"LeBron\").\n",
    "* Constructors / Destroyers\n",
    "* \"self\" - a reference to the class instance.\n",
    "* Hidden variables and name mangling with \"\\_\\_\"\n",
    "* Abstraction"
   ]
  },
  {
   "cell_type": "code",
   "execution_count": null,
   "metadata": {
    "collapsed": true,
    "slideshow": {
     "slide_type": "slide"
    }
   },
   "outputs": [],
   "source": [
    "class NBAPlayer:\n",
    "    \"\"\"This class represents an NBA player\"\"\"\n",
    "    def __init__(self,\n",
    "                 first_name,\n",
    "                 last_name,\n",
    "                 nickname):\n",
    "        \"\"\"Initialize an instance of the player class\"\"\"\n",
    "        self.first_name = first_name\n",
    "        self.last_name = last_name\n",
    "        self.nickname = nickname\n",
    "    \n",
    "    def print_name(self):\n",
    "        \"\"\"Print the player's profile.\"\"\"\n",
    "        print(self.first_name, ' \"', self.nickname, '\" ', self.last_name, sep=\"\")\n",
    "    \n",
    "    def print_sport(self):\n",
    "        \"\"\"Print the sport this player plays in.\"\"\"\n",
    "        print(\"Basketball!\")\n",
    "        \n",
    "lebron = NBAPlayer(\"LeBron\", \"James\", \"King James\")\n",
    "\n",
    "lebron.print_name()\n",
    "lebron.print_sport()"
   ]
  },
  {
   "cell_type": "code",
   "execution_count": null,
   "metadata": {
    "collapsed": true,
    "slideshow": {
     "slide_type": "slide"
    }
   },
   "outputs": [],
   "source": [
    "class Player:\n",
    "    \"\"\"This is an abstract class for a sports player.\"\"\"\n",
    "    def __init__(self,\n",
    "                 first_name,\n",
    "                 last_name,\n",
    "                 nickname):\n",
    "        \"\"\"Initialize an instance of the player class\"\"\"\n",
    "        self.first_name = first_name\n",
    "        self.last_name = last_name\n",
    "        self.nickname = nickname\n",
    "    \n",
    "    def print_name(self):\n",
    "        \"\"\"Print the player's profile.\"\"\"\n",
    "        print(self.first_name, ' \"', self.nickname, '\" ', self.last_name, sep=\"\")\n",
    "    \n",
    "    def print_sport(self):\n",
    "        pass"
   ]
  },
  {
   "cell_type": "code",
   "execution_count": null,
   "metadata": {
    "collapsed": true,
    "slideshow": {
     "slide_type": "slide"
    }
   },
   "outputs": [],
   "source": [
    "class NBAPlayer(Player):\n",
    "    \"\"\"This class represents an NBA player.\"\"\"\n",
    "    def print_sport(self):\n",
    "        print(\"Basketball!\")\n",
    "\n",
    "lebron = NBAPlayer(\"LeBron\", \"James\", \"King James\")\n",
    "\n",
    "lebron.print_name()\n",
    "lebron.print_sport()"
   ]
  },
  {
   "cell_type": "code",
   "execution_count": null,
   "metadata": {
    "collapsed": true,
    "slideshow": {
     "slide_type": "fragment"
    }
   },
   "outputs": [],
   "source": [
    "class NFLPlayer(Player):\n",
    "    \"\"\"This class represents an NFL player.\"\"\"\n",
    "    def print_sport(self):\n",
    "        print(\"Football!\")\n",
    "\n",
    "nick = NFLPlayer(\"Nick\", \"Foles\", \"Saint Nick\")\n",
    "            \n",
    "nick.print_name()\n",
    "nick.print_sport()"
   ]
  },
  {
   "cell_type": "markdown",
   "metadata": {
    "slideshow": {
     "slide_type": "slide"
    }
   },
   "source": [
    "# Terminology\n",
    "* Class - the overall structure description (e.g. \"NBAPlayer\").\n",
    "* Object / Instance - an instance of the class (e.g. \"LeBron\").\n",
    "* Constructors / Destroyers\n",
    "* \"self\" - a reference to the class instance.\n",
    "* Hidden variables and name mangling with \"\\_\\_\"\n",
    "* Abstraction\n",
    "* Polymorphism"
   ]
  },
  {
   "cell_type": "code",
   "execution_count": null,
   "metadata": {
    "collapsed": true,
    "slideshow": {
     "slide_type": "slide"
    }
   },
   "outputs": [],
   "source": [
    "class Player:\n",
    "    \"\"\"This is an abstract class for a sports player.\"\"\"\n",
    "    def __init__(self,\n",
    "                 first_name,\n",
    "                 last_name,\n",
    "                 nickname,\n",
    "                 stats,\n",
    "                ):\n",
    "        \"\"\"Initialize an instance of the player class\"\"\"\n",
    "        self.first_name = first_name\n",
    "        self.last_name = last_name\n",
    "        self.nickname = nickname\n",
    "        self.stats = stats\n",
    "    \n",
    "    def print_name(self):\n",
    "        \"\"\"Print the player's profile.\"\"\"\n",
    "        print(self.first_name, ' \"', self.nickname, '\" ', self.last_name, sep=\"\")\n",
    "    \n",
    "    def print_player_profile(self):\n",
    "        pass"
   ]
  },
  {
   "cell_type": "code",
   "execution_count": null,
   "metadata": {
    "collapsed": true,
    "slideshow": {
     "slide_type": "slide"
    }
   },
   "outputs": [],
   "source": [
    "class NBAPlayer(Player):\n",
    "    \"\"\"This class represents an NBA player.\"\"\"\n",
    "    def print_sport(self):\n",
    "        print(\"Basketball!\")\n",
    "    \n",
    "    def print_player_profile(self):\n",
    "        self.print_name()\n",
    "        print(\"PPG:\", self.stats[\"PPG\"], \"and FT:\", self.stats[\"FT\"])\n",
    "\n",
    "lebron = NBAPlayer(\n",
    "            \"LeBron\",\n",
    "            \"James\",\n",
    "            \"King James\",\n",
    "            {\n",
    "                \"PPG\":27,\n",
    "                \"FT\": 74\n",
    "            }\n",
    ")\n",
    "            \n",
    "lebron.print_player_profile()"
   ]
  },
  {
   "cell_type": "code",
   "execution_count": null,
   "metadata": {
    "collapsed": true,
    "slideshow": {
     "slide_type": "slide"
    }
   },
   "outputs": [],
   "source": [
    "class NFLPlayer(Player):\n",
    "    \"\"\"This class represents an NFL player.\"\"\"\n",
    "    def print_sport(self):\n",
    "        print(\"Football!\")\n",
    "    \n",
    "    def print_player_profile(self):\n",
    "        self.print_name()\n",
    "        print(\"Completion rate: \", self.stats[\"completions\"] / self.stats[\"attempts\"])\n",
    "\n",
    "nick = NFLPlayer(\n",
    "            \"Nick\",\n",
    "            \"Foles\",\n",
    "            \"Saint Nick\",\n",
    "            {\n",
    "                \"completions\":27.0,\n",
    "                \"attempts\": 1386\n",
    "            }\n",
    ")\n",
    "            \n",
    "nick.print_player_profile()"
   ]
  },
  {
   "cell_type": "markdown",
   "metadata": {
    "slideshow": {
     "slide_type": "slide"
    }
   },
   "source": [
    "# Polymorphism in sklearn! "
   ]
  },
  {
   "cell_type": "markdown",
   "metadata": {
    "slideshow": {
     "slide_type": "fragment"
    }
   },
   "source": [
    "```python\n",
    "model.fit(training_data)\n",
    "model.predict(testing_data)\n",
    "```"
   ]
  },
  {
   "cell_type": "markdown",
   "metadata": {
    "slideshow": {
     "slide_type": "slide"
    }
   },
   "source": [
    "# Class vs Objects"
   ]
  },
  {
   "cell_type": "code",
   "execution_count": null,
   "metadata": {
    "collapsed": true,
    "slideshow": {
     "slide_type": "slide"
    }
   },
   "outputs": [],
   "source": [
    "class NBAPlayer(Player):\n",
    "    \"\"\"This class represents an NBA player.\"\"\"\n",
    "    league_name = \"Basketball\"\n",
    "    \n",
    "    def print_sport(self):\n",
    "        print(\"Basketball!\")\n",
    "        print(self.league_name)\n",
    "    \n",
    "    def print_player_profile(self):\n",
    "        self.print_name()\n",
    "        print(\"PPG:\", self.stats[\"PPG\"], \"and FT:\", self.stats[\"FT\"])\n",
    "\n",
    "NBAPlayer.league_name"
   ]
  }
 ],
 "metadata": {
  "celltoolbar": "Slideshow",
  "kernelspec": {
   "display_name": "Python 3",
   "language": "python",
   "name": "python3"
  },
  "language_info": {
   "codemirror_mode": {
    "name": "ipython",
    "version": 3
   },
   "file_extension": ".py",
   "mimetype": "text/x-python",
   "name": "python",
   "nbconvert_exporter": "python",
   "pygments_lexer": "ipython3",
   "version": "3.6.1"
  },
  "livereveal": {
   "start_slideshow_at": "selected"
  }
 },
 "nbformat": 4,
 "nbformat_minor": 2
}
