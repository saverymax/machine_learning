{
 "cells": [
  {
   "cell_type": "markdown",
   "metadata": {},
   "source": [
    "    Object Oriented Programming"
   ]
  },
  {
   "cell_type": "code",
   "execution_count": 10,
   "metadata": {},
   "outputs": [],
   "source": [
    "class NBA_player:\n",
    "    \"\"\"This class represents an NBA player\"\"\"\n",
    "    def __init__(self, first_name, last_name, nickname):\n",
    "        \"\"\"Initialize Instance\"\"\"\n",
    "        self.first_name = first_name\n",
    "        self.last_name = last_name\n",
    "        self.nickname = nickname\n",
    "        \n",
    "    def print_it(self):\n",
    "        \"\"\"Print the player's name\"\"\"\n",
    "        print(self.first_name,' \"', self.nickname, '\" ', self.last_name, sep =\"\")\n",
    "\n",
    "lebron = NBA_player(\"lebron\", \"James\", \"Kingy\")  \n",
    "chris = NBA_player(\"ok\", \"stuff\", \"hy\") "
   ]
  },
  {
   "cell_type": "code",
   "execution_count": 11,
   "metadata": {},
   "outputs": [
    {
     "name": "stdout",
     "output_type": "stream",
     "text": [
      "lebron \"Kingy\" James\n"
     ]
    }
   ],
   "source": [
    "lebron.last_name\n",
    "lebron.print_it()"
   ]
  },
  {
   "cell_type": "code",
   "execution_count": null,
   "metadata": {
    "collapsed": true
   },
   "outputs": [],
   "source": []
  }
 ],
 "metadata": {
  "kernelspec": {
   "display_name": "Python 3",
   "language": "python",
   "name": "python3"
  },
  "language_info": {
   "codemirror_mode": {
    "name": "ipython",
    "version": 3
   },
   "file_extension": ".py",
   "mimetype": "text/x-python",
   "name": "python",
   "nbconvert_exporter": "python",
   "pygments_lexer": "ipython3",
   "version": "3.6.1"
  }
 },
 "nbformat": 4,
 "nbformat_minor": 2
}
