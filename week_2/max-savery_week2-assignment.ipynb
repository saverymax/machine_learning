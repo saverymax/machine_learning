{
 "cells": [
  {
   "cell_type": "markdown",
   "metadata": {},
   "source": [
    "Before you turn this problem in, make sure everything runs as expected. First, **restart the kernel** (in the menubar, select Kernel$\\rightarrow$Restart) and then **run all cells** (in the menubar, select Cell$\\rightarrow$Run All).\n",
    "\n",
    "Make sure you fill in any place that says `YOUR CODE HERE` or \"YOUR ANSWER HERE\"."
   ]
  },
  {
   "cell_type": "markdown",
   "metadata": {
    "deletable": false,
    "editable": false,
    "nbgrader": {
     "checksum": "4bb808584f899ee7940da7d744067cfc",
     "grade": false,
     "grade_id": "intro",
     "locked": true,
     "schema_version": 1,
     "solution": false
    }
   },
   "source": [
    "# Week 2 Assignments\n",
    "The assignment for week 2 has four components, each worth 25%. Each component is graded as pass or fail. \n",
    "\n",
    "In the first, you will implement a method for a class that represents a rectangle. The method you implement will return the rectangle's size.\n",
    "\n",
    "In the second component, you will create two classes, \"Dog\" and \"Cat\", that inherit from the abstract \"Pet\" class that we provide. You will implement a method for each of these classes that returns a string describing the noise the particular pet makes. Namely, \"bark\" for dog and \"meow\" for cat.\n",
    "\n",
    "The third component will require that you create a class from scratch, that represents a bank account. You will need to implement methods to deposit, withdraw and check the account balance.\n",
    "\n",
    "In the fourth and final component, you will create a class \"DebitAccount\" that is identical to BankAccount, except it cannot accept a negative balance.\n",
    "\n",
    "Below each assignment is a cell with several assertions. Run that cell to verify your code. If it fails, correct your code and rerun the cell containing the assertions. Once the cell containing the assertions runs correctly, your code is working. Note however that we will be running a few other tests to verify your code.\n",
    "\n",
    "## Part A: Creating a Class (1 point)\n",
    "\n",
    "Write a class that represents a rectangle. We've written the first part for you. The rectangle's \\_\\_init\\_\\_ function\n",
    "takes width and height parameters, so:\n",
    "```python\n",
    "my_rectangle = Rectangle(2, 4)\n",
    "```\n",
    "creates a 2 x 4 rectangle.\n",
    "\n",
    "The class needs a method that returns the rectangle's size. The method: \n",
    "* Takes no arguments (other than \"self\")\n",
    "* Returns the rectangle's size (height * width)\n",
    "\n",
    "IE running the following code will give you the size:\n",
    "```python\n",
    "my_rectangle = Rectangle(2, 4)\n",
    "print(my_rectangle.get_size())\n",
    "```\n",
    "Should print: 8."
   ]
  },
  {
   "cell_type": "code",
   "execution_count": 1,
   "metadata": {
    "collapsed": true,
    "deletable": false,
    "nbgrader": {
     "checksum": "fd661c1999e8fbad89520c6ba0e149c0",
     "grade": false,
     "grade_id": "p1",
     "locked": false,
     "schema_version": 1,
     "solution": true
    }
   },
   "outputs": [],
   "source": [
    "class Rectangle:\n",
    "    \n",
    "    def __init__(self, height, width):\n",
    "        \"\"\"Initialize a new rectangle object\"\"\"\n",
    "        \n",
    "        self.height = height\n",
    "        self.width = width\n",
    "        \n",
    "    def get_size(self):\n",
    "        \"\"\"Return the size of the rectangle\"\"\"\n",
    "        \n",
    "        return(self.height*self.width)"
   ]
  },
  {
   "cell_type": "markdown",
   "metadata": {
    "deletable": false,
    "editable": false,
    "nbgrader": {
     "checksum": "c27026208cd2a1539c51d6dfb71ffa0d",
     "grade": false,
     "grade_id": "cell-3ed641e31f8c28ff",
     "locked": true,
     "schema_version": 1,
     "solution": false
    }
   },
   "source": [
    "Your rectangle should indicate a size of 20 for height of 2 and width of 10. Check that it does:"
   ]
  },
  {
   "cell_type": "code",
   "execution_count": 2,
   "metadata": {
    "collapsed": true
   },
   "outputs": [],
   "source": [
    "my_rectangle = Rectangle(2, 10)\n",
    "assert my_rectangle.get_size() == 20"
   ]
  },
  {
   "cell_type": "markdown",
   "metadata": {
    "deletable": false,
    "editable": false,
    "nbgrader": {
     "checksum": "6a241caabc204cd07958146002d52e3f",
     "grade": false,
     "grade_id": "cell2",
     "locked": true,
     "schema_version": 1,
     "solution": false
    }
   },
   "source": [
    "The next set of assertions should run without error. Run them to verify your code."
   ]
  },
  {
   "cell_type": "code",
   "execution_count": 3,
   "metadata": {
    "collapsed": true,
    "deletable": false,
    "editable": false,
    "nbgrader": {
     "checksum": "a486414b497749a02baef30136a5c458",
     "grade": true,
     "grade_id": "correct_p1",
     "locked": true,
     "points": 1,
     "schema_version": 1,
     "solution": false
    }
   },
   "outputs": [],
   "source": [
    "assert Rectangle(10, 10).get_size() == 100\n",
    "assert Rectangle(10, 30).get_size() == 300\n",
    "assert Rectangle(28, 2).get_size() == 56\n",
    "assert Rectangle(10, 10).get_size() == 100"
   ]
  },
  {
   "cell_type": "markdown",
   "metadata": {
    "deletable": false,
    "editable": false,
    "nbgrader": {
     "checksum": "e8e7ac9c3ba729d8eb037d86ee0dd1ce",
     "grade": false,
     "grade_id": "cell4",
     "locked": true,
     "schema_version": 1,
     "solution": false
    }
   },
   "source": [
    "---\n",
    "## Part B: Abstraction, inheritance and polymorphism (1 point)\n",
    "\n",
    "Below we've created an abstract class to represent pets. Its \\_\\_init\\_\\_ function takes a name for the pet.\n",
    "\n",
    "You will inherit from the \"Pet\" class to create a \"Dog\" and a \"Cat\". You will override the \"make_sound\" method, so that for a dog it returns the string \"bark\" and for a cat it returns the string \"meow\".\n",
    "\n",
    "IE running the following code will give you the expected sounds:\n",
    "```python\n",
    "dog = Dog(\"sherlock\")\n",
    "print(dog.make_sound())\n",
    "```\n",
    "The above code should print: \"bark\"."
   ]
  },
  {
   "cell_type": "code",
   "execution_count": 4,
   "metadata": {
    "collapsed": true,
    "deletable": false,
    "nbgrader": {
     "checksum": "8b8ce2661deae2e826c993f38002e1dc",
     "grade": false,
     "grade_id": "p2",
     "locked": false,
     "schema_version": 1,
     "solution": true
    }
   },
   "outputs": [],
   "source": [
    "class Pet:\n",
    "    def __init__(self, name):\n",
    "        \"\"\"Initialize a new pet\"\"\"\n",
    "        \n",
    "        self.name = name\n",
    "        \n",
    "    def make_noise(self):\n",
    "        \"\"\"The pets noise. Will be overwritten by the inheriting class\"\"\"\n",
    "        \n",
    "        pass\n",
    "\n",
    "class Dog(Pet):\n",
    "    \"\"\"Initialize a dog\"\"\"\n",
    "    \n",
    "    def make_noise(self):\n",
    "        \"\"\"Time to bark\"\"\"\n",
    "        return(\"bark\")\n",
    "\n",
    "class Cat(Pet):\n",
    "    \"\"\"Initialize a cat\"\"\"\n",
    "    \n",
    "    def make_noise(self):\n",
    "        \"\"\"Time to meow\"\"\"\n",
    "        return(\"meow\")"
   ]
  },
  {
   "cell_type": "markdown",
   "metadata": {
    "deletable": false,
    "editable": false,
    "nbgrader": {
     "checksum": "24b1bf53bc7da40c17664c822da7a30a",
     "grade": false,
     "grade_id": "cell-3ed641e31f8c28ffdsq",
     "locked": true,
     "schema_version": 1,
     "solution": false
    }
   },
   "source": [
    "The next set of assertions should run without error. Run them to verify your code."
   ]
  },
  {
   "cell_type": "code",
   "execution_count": 5,
   "metadata": {
    "collapsed": true,
    "deletable": false,
    "editable": false,
    "nbgrader": {
     "checksum": "c41495af5c173fbf39b4e5e7b1d730a2",
     "grade": true,
     "grade_id": "correct_p2",
     "locked": true,
     "points": 1,
     "schema_version": 1,
     "solution": false
    }
   },
   "outputs": [],
   "source": [
    "pet1 = Dog(\"sherlock\")\n",
    "assert pet1.make_noise() == \"bark\"\n",
    "assert pet1.name == \"sherlock\"\n",
    "\n",
    "pet2 = Cat(\"rex\")\n",
    "assert pet2.make_noise() == \"meow\"\n",
    "assert pet2.name == \"rex\""
   ]
  },
  {
   "cell_type": "markdown",
   "metadata": {
    "deletable": false,
    "editable": false,
    "nbgrader": {
     "checksum": "1969ef588ac2524a3dd61c43f167cde9",
     "grade": false,
     "grade_id": "partc",
     "locked": true,
     "schema_version": 1,
     "solution": false
    }
   },
   "source": [
    "---\n",
    "## Part C:  Object state (1 point)\n",
    "\n",
    "You will need to create a class \"BankAccount\". Its \\_\\_init\\_\\_ function should initialize the attribute that will hold the current balance amount.\n",
    "\n",
    "You will need to implement methods \"deposit\", \"withdraw\" that take amount as an argument (a non-negative float) and adjust the account balance accordingly. You will also need to implement method \"check_balance\" that returns current account balance.\n",
    "\n",
    "Make sure to create appropriate docstring documentation for each method and also for the class. The docstring documentation is placed immediately below the class declaration and below each method's declaration, with three quotation marks on each side, such that:\n",
    "```python\n",
    "class MyClass:\n",
    "    \"\"\"\n",
    "    This is where documentation on what\n",
    "    MyClass does should go.\n",
    "    \"\"\"\n",
    "    \n",
    "    def my_method(self):\n",
    "        \"\"\"\n",
    "        This is where documentation on what \n",
    "        my_method does should go.\n",
    "        \"\"\"\n",
    "        pass\n",
    "```"
   ]
  },
  {
   "cell_type": "code",
   "execution_count": 6,
   "metadata": {
    "collapsed": true,
    "deletable": false,
    "nbgrader": {
     "checksum": "b53e2bbdea2f9a9a0678fbda09dab590",
     "grade": false,
     "grade_id": "p3",
     "locked": false,
     "schema_version": 1,
     "solution": true
    }
   },
   "outputs": [],
   "source": [
    "class BankAccount:\n",
    "    \n",
    "    def __init__(self): \n",
    "        \"\"\"Initialize a bank account\"\"\"\n",
    "        self.account_balance = 0\n",
    "    \n",
    "    def deposit(self, deposit):\n",
    "        \"\"\"Deposit money into the account\"\"\"\n",
    "        self.account_balance += deposit\n",
    "        \n",
    "    def withdraw(self, withdrawal):\n",
    "        \"\"\"Withdraw money from the account\"\"\"\n",
    "        self.account_balance -= withdrawal\n",
    "        \n",
    "    def check_balance(self):\n",
    "        \"\"\"Check the balance of the account\"\"\"\n",
    "        return(self.account_balance)"
   ]
  },
  {
   "cell_type": "markdown",
   "metadata": {
    "deletable": false,
    "editable": false,
    "nbgrader": {
     "checksum": "36980668fbd0f04f4bbdd10870a0c136",
     "grade": false,
     "grade_id": "cell-jhhkjnkjn",
     "locked": true,
     "schema_version": 1,
     "solution": false
    }
   },
   "source": [
    "The next set of assertions should run without error. Run them to verify your code."
   ]
  },
  {
   "cell_type": "code",
   "execution_count": 7,
   "metadata": {
    "collapsed": true,
    "deletable": false,
    "editable": false,
    "nbgrader": {
     "checksum": "597c25d6c73f90b5316c68ae8efe69bf",
     "grade": true,
     "grade_id": "correct_p3",
     "locked": true,
     "points": 1,
     "schema_version": 1,
     "solution": false
    }
   },
   "outputs": [],
   "source": [
    "acc = BankAccount()\n",
    "acc.deposit(100.0)\n",
    "acc.deposit(200.0)\n",
    "acc.withdraw(250.0)\n",
    "assert acc.check_balance() == 50.0\n",
    "acc.withdraw(10.0)\n",
    "acc.deposit(30.0)\n",
    "assert acc.check_balance() == 70.0\n",
    "assert len(BankAccount.deposit.__doc__) > 10\n",
    "assert len(BankAccount.withdraw.__doc__) > 10"
   ]
  },
  {
   "cell_type": "markdown",
   "metadata": {
    "deletable": false,
    "editable": false,
    "nbgrader": {
     "checksum": "8ad7462fba5d49f1525bf389f446e159",
     "grade": false,
     "grade_id": "partd",
     "locked": true,
     "schema_version": 1,
     "solution": false
    }
   },
   "source": [
    "---\n",
    "## Part D:  Inheritance and Polymorphisms (1 point)\n",
    "\n",
    "You will need to create a class \"DebitAccount\" that behaves exactly like \"BankAccount\" with one notable exception -- it can not have a negative balance.\n",
    "\n",
    "Therefore, the method \"withdraw\" of \"DebitAccount\" should not change the account balance if there are insufficient funds and should return False in this case.\n",
    "\n",
    "If there are sufficient funds \"withdraw\" should adjust the account balance and return True.\n",
    "\n",
    "Apply the concepts of inheritance and polymorphisms here.\n",
    "\n",
    "As always, make sure to provide a docstring documentation, it is a requirement."
   ]
  },
  {
   "cell_type": "code",
   "execution_count": 8,
   "metadata": {
    "collapsed": true,
    "deletable": false,
    "nbgrader": {
     "checksum": "98333ad3dc361029a0d6d6d2bc5cac2f",
     "grade": false,
     "grade_id": "pd",
     "locked": false,
     "schema_version": 1,
     "solution": true
    }
   },
   "outputs": [],
   "source": [
    "class DebitAccount(BankAccount):\n",
    "               \n",
    "    def withdraw(self, withdrawal):\n",
    "        \"\"\"Withdraw money from the account, as long \n",
    "        as there are sufficient funds\"\"\"\n",
    "        if self.account_balance - withdrawal >= 0:\n",
    "            self.account_balance -= withdrawal\n",
    "            return(True)\n",
    "        else:\n",
    "            return(False)"
   ]
  },
  {
   "cell_type": "markdown",
   "metadata": {
    "deletable": false,
    "editable": false,
    "nbgrader": {
     "checksum": "aff034b28ccb878bb1fb0d0c0db83c6b",
     "grade": false,
     "grade_id": "cell-jhhkjnkjns",
     "locked": true,
     "schema_version": 1,
     "solution": false
    }
   },
   "source": [
    "The next set of assertions should run without error. Run them to verify your code."
   ]
  },
  {
   "cell_type": "code",
   "execution_count": 9,
   "metadata": {
    "collapsed": true,
    "deletable": false,
    "editable": false,
    "nbgrader": {
     "checksum": "c5aefc127030e347068167d0fe83b79d",
     "grade": true,
     "grade_id": "correct_pd",
     "locked": true,
     "points": 1,
     "schema_version": 1,
     "solution": false
    }
   },
   "outputs": [],
   "source": [
    "assert issubclass(DebitAccount, BankAccount)\n",
    "\n",
    "debit = DebitAccount()\n",
    "debit.deposit(30.0)\n",
    "debit.deposit(20.0)\n",
    "assert debit.check_balance() == 50.0\n",
    "result = debit.withdraw(10.0)\n",
    "assert debit.check_balance() == 40.0\n",
    "assert result is True\n",
    "\n",
    "result = debit.withdraw(90.0)\n",
    "assert debit.check_balance() == 40.0\n",
    "assert result is False\n"
   ]
  },
  {
   "cell_type": "code",
   "execution_count": null,
   "metadata": {
    "collapsed": true
   },
   "outputs": [],
   "source": []
  }
 ],
 "metadata": {
  "kernelspec": {
   "display_name": "Python 3",
   "language": "python",
   "name": "python3"
  },
  "language_info": {
   "codemirror_mode": {
    "name": "ipython",
    "version": 3
   },
   "file_extension": ".py",
   "mimetype": "text/x-python",
   "name": "python",
   "nbconvert_exporter": "python",
   "pygments_lexer": "ipython3",
   "version": "3.6.1"
  }
 },
 "nbformat": 4,
 "nbformat_minor": 2
}
