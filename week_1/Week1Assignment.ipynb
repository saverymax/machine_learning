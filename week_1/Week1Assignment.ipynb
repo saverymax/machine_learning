{
 "cells": [
  {
   "cell_type": "markdown",
   "metadata": {},
   "source": [
    "# In-Class Assignment\n",
    "* Create a list of dictionaries, with each dictionary denoting the attributes of a single person, as follows:\n",
    "```python\n",
    "people = [\n",
    "    {'name': 'Charlie', 'age': 35}, \n",
    "    {'name': 'Alice', 'age': 30}, \n",
    "    {'name': 'Eve', 'age': 20},\n",
    "    {'name': 'Gail', 'age': 30},\n",
    "    {'name': 'Dennis', 'age': 25},\n",
    "    {'name': 'Bob', 'age': 35},\n",
    "    {'name': 'Fred', 'age': 25}]\n",
    "```\n",
    "* Print the items in people as comma seperated values. Output should look like:\n",
    "\n",
    "> Charlie,35\n",
    "\n",
    "> Alice,30\n",
    "\n",
    "> and so forth...\n",
    "\n",
    "  Reminder, to loop over a list:\n",
    "```python\n",
    "for item in list_name:\n",
    "    # do something to \"item\", for example, print\n",
    "    print(item)\n",
    "```\n",
    "\n",
    "* Write a function that accepts the people dictionary, and prints the items as comma separated values.\n",
    "  Reminder on function syntax:\n",
    "```python\n",
    "def my_function_name(argument_1, argument_2):\n",
    "    \"\"\"Sample function that prints two arguments.\"\"\"\n",
    "    print(argument_1, argument_2)\n",
    "```\n",
    "\n",
    "* Sort people so that they are ordered by age, and print.\n",
    "  Reminder on how to sort a list:\n",
    "```python\n",
    "my_list.sort(key=lambda x: x)\n",
    "```"
   ]
  }
 ],
 "metadata": {
  "kernelspec": {
   "display_name": "Python 3",
   "language": "python",
   "name": "python3"
  },
  "language_info": {
   "codemirror_mode": {
    "name": "ipython",
    "version": 3
   },
   "file_extension": ".py",
   "mimetype": "text/x-python",
   "name": "python",
   "nbconvert_exporter": "python",
   "pygments_lexer": "ipython3",
   "version": "3.6.1"
  }
 },
 "nbformat": 4,
 "nbformat_minor": 2
}
