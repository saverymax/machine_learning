{
 "cells": [
  {
   "cell_type": "code",
   "execution_count": 3,
   "metadata": {
    "collapsed": true
   },
   "outputs": [],
   "source": [
    "people = [\n",
    "  {'name': 'Charlie', 'age': 35}, \n",
    "  {'name': 'Alice', 'age': 30}, \n",
    "  {'name': 'Eve', 'age': 20},\n",
    "  {'name': 'Gail', 'age': 30},\n",
    "  {'name': 'Dennis', 'age': 25},\n",
    "  {'name': 'Bob', 'age': 35},\n",
    "  {'name': 'Fred', 'age': 25}]"
   ]
  },
  {
   "cell_type": "code",
   "execution_count": 8,
   "metadata": {},
   "outputs": [
    {
     "name": "stdout",
     "output_type": "stream",
     "text": [
      "Charlie, 35\n",
      "Alice, 30\n",
      "Eve, 20\n",
      "Gail, 30\n",
      "Dennis, 25\n",
      "Bob, 35\n",
      "Fred, 25\n"
     ]
    }
   ],
   "source": [
    "def print_people(people_list):\n",
    "    for person in people_list:\n",
    "        print(\"%s, %s\" % (person['name'],person['age']))\n",
    "print_people(people)"
   ]
  },
  {
   "cell_type": "code",
   "execution_count": 7,
   "metadata": {},
   "outputs": [
    {
     "name": "stdout",
     "output_type": "stream",
     "text": [
      "[{'name': 'Eve', 'age': 20}, {'name': 'Dennis', 'age': 25}, {'name': 'Fred', 'age': 25}, {'name': 'Alice', 'age': 30}, {'name': 'Gail', 'age': 30}, {'name': 'Charlie', 'age': 35}, {'name': 'Bob', 'age': 35}]\n"
     ]
    }
   ],
   "source": [
    "sorted_people = sorted(people, key=lambda people: people['age'])\n",
    "print(sorted_people)"
   ]
  }
 ],
 "metadata": {
  "kernelspec": {
   "display_name": "Python 3",
   "language": "python",
   "name": "python3"
  },
  "language_info": {
   "codemirror_mode": {
    "name": "ipython",
    "version": 3
   },
   "file_extension": ".py",
   "mimetype": "text/x-python",
   "name": "python",
   "nbconvert_exporter": "python",
   "pygments_lexer": "ipython3",
   "version": "3.6.1"
  }
 },
 "nbformat": 4,
 "nbformat_minor": 2
}
