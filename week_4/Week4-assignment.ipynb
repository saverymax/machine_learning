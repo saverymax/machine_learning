{
 "cells": [
  {
   "cell_type": "markdown",
   "metadata": {},
   "source": [
    "Before you turn this problem in, make sure everything runs as expected. First, **restart the kernel** (in the menubar, select Kernel$\\rightarrow$Restart) and then **run all cells** (in the menubar, select Cell$\\rightarrow$Run All).\n",
    "\n",
    "Make sure you fill in any place that says `YOUR CODE HERE` or \"YOUR ANSWER HERE\"."
   ]
  },
  {
   "cell_type": "markdown",
   "metadata": {},
   "source": [
    "# Week4 Assignments - Functions, NumPy and Pandas\n",
    "\n",
    "\n",
    "This assignment has four components. Each of the first three components receives one point if all the tests pass. \n",
    "The last component on Pandas may require more effort, it consists of three subtasks, each of the subtasks receives 1 point.\n",
    "\n",
    "All the exercises are designed so that the solutions will need only one or a few lines of code.\n",
    "\n",
    "Some concepts may be new to you and may require digging into the Python, NumPy or Pandas documentation, the links are provided.\n",
    "\n",
    "Do not hesitate to contact instuctors and TA via #week4 channel on Slack if you get stuck. Join the channel first by clicking on Channels."
   ]
  },
  {
   "cell_type": "markdown",
   "metadata": {},
   "source": [
    "## Part A. Create a missing function (1 point)\n",
    "\n",
    "In this exercise you need to create a function __missing_link(x)__ that is passed to another function as an argument in order to perform a calculation.\n",
    "\n",
    "We know the final result (see the assert operator), but we do not know the intermediate calculation leading to that result.\n",
    "\n",
    "Read about Python built-in functions __all()__ and __zip()__\n",
    "https://docs.python.org/3.3/library/functions.html\n",
    "\n",
    "and about the iterators and generators here:\n",
    "https://docs.python.org/3.3/library/stdtypes.html#typeiter"
   ]
  },
  {
   "cell_type": "code",
   "execution_count": 2,
   "metadata": {
    "collapsed": true,
    "deletable": false,
    "editable": false,
    "nbgrader": {
     "checksum": "7fa570e0f3ef83360f282f9cc6acdc8e",
     "grade": false,
     "grade_id": "cell-c43104a470a0fbef",
     "locked": true,
     "schema_version": 1,
     "solution": false
    }
   },
   "outputs": [],
   "source": [
    "def calculate(func, it):\n",
    "    \"\"\"\n",
    "    Performs calculation by applying *func* to each item of iterator *it*\n",
    "    Returns a generator as a result.\n",
    "    \"\"\"\n",
    "    return (2 * func(a) for a in it)\n"
   ]
  },
  {
   "cell_type": "code",
   "execution_count": 12,
   "metadata": {
    "deletable": false,
    "nbgrader": {
     "checksum": "b721fc9105856664a4b333fdbb4a9cb1",
     "grade": false,
     "grade_id": "cell-c1e7f79ad332b8f9",
     "locked": false,
     "schema_version": 1,
     "solution": true
    }
   },
   "outputs": [
    {
     "name": "stdout",
     "output_type": "stream",
     "text": [
      "[0, 1, 2, 3, 4, 5]\n"
     ]
    }
   ],
   "source": [
    "def missing_link(x):\n",
    "    \"\"\"Define a function that will be passed to calculate() as an argument\"\"\"\n",
    "    return(x**2)\n",
    "\n",
    "## You can check the result of the missing_link() function and of calculate() if you wish:\n",
    "# print(list(map(missing_link, range(5))))\n",
    "# print(list(calculate(missing_link, range(5))))"
   ]
  },
  {
   "cell_type": "code",
   "execution_count": 7,
   "metadata": {
    "collapsed": true,
    "deletable": false,
    "editable": false,
    "nbgrader": {
     "checksum": "2ca1c8af6f77996043d3b589bac328bd",
     "grade": true,
     "grade_id": "cell-fd50146eeead0c65",
     "locked": true,
     "points": 1,
     "schema_version": 1,
     "solution": false
    }
   },
   "outputs": [],
   "source": [
    "_observed_results = calculate(missing_link, range(7))\n",
    "_expected_results = [0, 2, 8, 18, 32, 50, 72]\n",
    "\n",
    "assert all(a == b for a, b in zip(_observed_results, _expected_results))"
   ]
  },
  {
   "cell_type": "markdown",
   "metadata": {},
   "source": [
    "## Part B. Create a filter function (1 point)\n",
    "\n",
    "In this exercise you need to create a filter function __filter_DNA(c)__ that accepts one character as an argument and returns True if it belongs to the DNA alphabet \"ACGT\" and False otherwise. The function should be insensitive to case of the character, i.e. both \"A\" and \"a\" are valid.\n",
    "\n",
    "__filter_DNA(c)__ will be applied to a string in order to exclude all characters not belonging to the DNA alphabet.\n",
    "\n",
    "Read more about __filter()__ -- a Python built-in function https://docs.python.org/3/library/functions.html#filter\n"
   ]
  },
  {
   "cell_type": "code",
   "execution_count": 32,
   "metadata": {
    "deletable": false,
    "nbgrader": {
     "checksum": "fe2ce4217e0ecf5bb24db87628660062",
     "grade": false,
     "grade_id": "cell-bc8ce57a60e5fd7a",
     "locked": false,
     "schema_version": 1,
     "solution": true
    }
   },
   "outputs": [
    {
     "name": "stdout",
     "output_type": "stream",
     "text": [
      "False\n",
      "a, c, g, t\n"
     ]
    }
   ],
   "source": [
    "import re\n",
    "\n",
    "def filter_DNA(DNA):\n",
    "    \"\"\"\n",
    "    Accepts one character as an argument\n",
    "    Returns True if it belongs to the DNA alphabet \"ACGT\" and False otherwise\n",
    "    \"\"\"\n",
    "    if re.match('[BD-FH-SU-Z\\W\\s\\d]+', DNA.upper()) != None: # Check to see if the string contains letters other than ATCG\n",
    "        # the * allows the code to search for \"\" but it's annoying because it won't accept true DNA string\n",
    "        # \\W matches all nonalpha numeric digits\n",
    "        return(False)\n",
    "    else:\n",
    "        return(True)\n",
    "\n",
    "# using filter is equivalent to (item for item in iterable if function(item))"
   ]
  },
  {
   "cell_type": "code",
   "execution_count": 33,
   "metadata": {
    "collapsed": true,
    "deletable": false,
    "editable": false,
    "nbgrader": {
     "checksum": "ab2542fec77b650ac10825565a3001a4",
     "grade": true,
     "grade_id": "cell-165c467d2a6e7dde",
     "locked": true,
     "points": 1,
     "schema_version": 1,
     "solution": false
    }
   },
   "outputs": [],
   "source": [
    "assert \", \".join(filter(filter_DNA, \"ACGT\")) == \"A, C, G, T\"\n",
    "assert \", \".join(filter(filter_DNA, \"acgt\")) == \"a, c, g, t\"\n",
    "assert \", \".join(filter(filter_DNA, \"#*UEOHaSDNKcSDPUgDNBH#tSBDHe\")) == \"a, c, g, t\"\n",
    "assert \", \".join(filter(filter_DNA, \"aTGXXAxGxCXT\")) == \"a, T, G, A, G, C, T\""
   ]
  },
  {
   "cell_type": "markdown",
   "metadata": {},
   "source": [
    "## Part C. NumPy (1 point)\n",
    "\n",
    "Define __x__ as a subdivision of an interval from -4 PI to 4 PI into 32 equal parts, i.e. with a PI/4 step. Including both endpoints that should give 33 points.\n",
    "Using NumPy calculate __cos()__ and __sin()__ and find the values of __x__ where __cos(x)__ is equal to __sin(x)__ and store these values in the variable __y__. Use NumPy vector operations.\n",
    "\n",
    "Use __np.pi__ constant and __np.linspace()__ function: \n",
    "https://docs.scipy.org/doc/numpy/reference/generated/numpy.linspace.html\n",
    "\n",
    "Note that due to the way floating points are stored in memory exact comparison is nearly always impossible. You should use __np.isclose()__ instead. That would allow some room for floating point errors.\n",
    "https://docs.scipy.org/doc/numpy-dev/reference/generated/numpy.isclose.html\n",
    "\n",
    "This plot may be helpful:\n",
    "http://www.wolframalpha.com/input/?i=plot+sinx+and+cosx+from+-4pi+to+4pi"
   ]
  },
  {
   "cell_type": "code",
   "execution_count": 120,
   "metadata": {
    "deletable": false,
    "nbgrader": {
     "checksum": "daa742e17fca0e55aaa15f4ac26e275f",
     "grade": false,
     "grade_id": "cell-8d46731c6bc218b6",
     "locked": false,
     "schema_version": 1,
     "solution": true
    }
   },
   "outputs": [
    {
     "name": "stdout",
     "output_type": "stream",
     "text": [
      "[  1.00000000e+00   7.07106781e-01  -4.28626380e-16  -7.07106781e-01\n",
      "  -1.00000000e+00  -7.07106781e-01   3.06161700e-16   7.07106781e-01\n",
      "   1.00000000e+00   7.07106781e-01  -1.83697020e-16  -7.07106781e-01\n",
      "  -1.00000000e+00  -7.07106781e-01   6.12323400e-17   7.07106781e-01\n",
      "   1.00000000e+00   7.07106781e-01   6.12323400e-17  -7.07106781e-01\n",
      "  -1.00000000e+00  -7.07106781e-01  -1.96005386e-15   7.07106781e-01\n",
      "   1.00000000e+00   7.07106781e-01  -1.47019514e-15  -7.07106781e-01\n",
      "  -1.00000000e+00  -7.07106781e-01  -2.20498322e-15   7.07106781e-01\n",
      "   1.00000000e+00] [  4.89858720e-16   7.07106781e-01   1.00000000e+00   7.07106781e-01\n",
      "  -3.67394040e-16  -7.07106781e-01  -1.00000000e+00  -7.07106781e-01\n",
      "   2.44929360e-16   7.07106781e-01   1.00000000e+00   7.07106781e-01\n",
      "  -1.22464680e-16  -7.07106781e-01  -1.00000000e+00  -7.07106781e-01\n",
      "   0.00000000e+00   7.07106781e-01   1.00000000e+00   7.07106781e-01\n",
      "   1.22464680e-16  -7.07106781e-01  -1.00000000e+00  -7.07106781e-01\n",
      "  -2.44929360e-16   7.07106781e-01   1.00000000e+00   7.07106781e-01\n",
      "   3.67394040e-16  -7.07106781e-01  -1.00000000e+00  -7.07106781e-01\n",
      "  -4.89858720e-16]\n"
     ]
    }
   ],
   "source": [
    "import numpy as np\n",
    "x = np.linspace(-4*np.pi,4*np.pi,33)\n",
    "a = np.array([np.cos(i) for i in x])\n",
    "\n",
    "b = np.array([np.sin(i) for i in x])\n",
    "print(a,b)\n",
    "y = x[np.isclose(a,b)]"
   ]
  },
  {
   "cell_type": "code",
   "execution_count": 122,
   "metadata": {
    "deletable": false,
    "editable": false,
    "nbgrader": {
     "checksum": "ac9206dcbcc7f53cc8a0d295b9596e01",
     "grade": true,
     "grade_id": "cell-c7edebc7b2cd1c7b",
     "locked": true,
     "points": 1,
     "schema_version": 1,
     "solution": false
    }
   },
   "outputs": [],
   "source": [
    "assert x.shape[0] == 33\n",
    "assert -4*np.pi in x\n",
    "assert 0.0 in x\n",
    "assert 4*np.pi in x\n",
    "\n",
    "assert y.shape[0] == 8\n",
    "assert np.all(np.isclose(y/np.pi, np.array([-3.75, -2.75, -1.75, -0.75,  0.25,  1.25,  2.25,  3.25])))"
   ]
  },
  {
   "cell_type": "markdown",
   "metadata": {},
   "source": [
    "## Part D. Working with Pandas dataframes (3 points)\n",
    "\n",
    "We will explore FBI reports on gun checks provided by the National Instant Criminal Background Check System (NICS)\n",
    "https://www.fbi.gov/services/cjis/nics\n",
    "\n",
    "Before ringing up the sale, cashiers call in a check to the FBI or to other designated agencies to ensure that each customer does not have a criminal record or isn’t otherwise ineligible to make a purchase. More than 230 million such checks have been made, leading to more than 1.3 million denials.\n",
    "\n",
    "NICS and background checks is a hot topic and it is important to be able to do some basic fact-checking using the data available. https://www.washingtonpost.com/news/fact-checker/wp/2018/02/23/fact-checking-trump-nra-claims-on-gun-background-checks/?utm_term=.3e0284ad3774\n",
    "\n",
    "The FBI NICS provides data as PDF reports, which is a really bad example of distributing the data.\n",
    "There is a community-developed parser that extracted the data from PDF files. Parsed dataset that we will be using is available here: \n",
    "https://github.com/BuzzFeedNews/nics-firearm-background-checks/blob/master/README.md\n",
    "\n",
    "Note that the number of background checks can not be directly interpreted as the number of guns sold because the actual sale protocols vary state to state."
   ]
  },
  {
   "cell_type": "code",
   "execution_count": 2,
   "metadata": {
    "collapsed": true
   },
   "outputs": [],
   "source": [
    "import pandas as pd\n",
    "\n",
    "# NICS parsed dataset url\n",
    "url = \"https://github.com/BuzzFeedNews/nics-firearm-background-checks/blob/master/data/nics-firearm-background-checks.csv?raw=true\"\n",
    "guns = pd.read_csv(url)\n"
   ]
  },
  {
   "cell_type": "code",
   "execution_count": 3,
   "metadata": {},
   "outputs": [
    {
     "data": {
      "text/html": [
       "<div>\n",
       "<style>\n",
       "    .dataframe thead tr:only-child th {\n",
       "        text-align: right;\n",
       "    }\n",
       "\n",
       "    .dataframe thead th {\n",
       "        text-align: left;\n",
       "    }\n",
       "\n",
       "    .dataframe tbody tr th {\n",
       "        vertical-align: top;\n",
       "    }\n",
       "</style>\n",
       "<table border=\"1\" class=\"dataframe\">\n",
       "  <thead>\n",
       "    <tr style=\"text-align: right;\">\n",
       "      <th></th>\n",
       "      <th>month</th>\n",
       "      <th>state</th>\n",
       "      <th>permit</th>\n",
       "      <th>permit_recheck</th>\n",
       "      <th>handgun</th>\n",
       "      <th>long_gun</th>\n",
       "      <th>other</th>\n",
       "      <th>multiple</th>\n",
       "      <th>admin</th>\n",
       "      <th>prepawn_handgun</th>\n",
       "      <th>...</th>\n",
       "      <th>returned_other</th>\n",
       "      <th>rentals_handgun</th>\n",
       "      <th>rentals_long_gun</th>\n",
       "      <th>private_sale_handgun</th>\n",
       "      <th>private_sale_long_gun</th>\n",
       "      <th>private_sale_other</th>\n",
       "      <th>return_to_seller_handgun</th>\n",
       "      <th>return_to_seller_long_gun</th>\n",
       "      <th>return_to_seller_other</th>\n",
       "      <th>totals</th>\n",
       "    </tr>\n",
       "  </thead>\n",
       "  <tbody>\n",
       "    <tr>\n",
       "      <th>0</th>\n",
       "      <td>2018-01</td>\n",
       "      <td>Alabama</td>\n",
       "      <td>23930.0</td>\n",
       "      <td>0.0</td>\n",
       "      <td>5692.0</td>\n",
       "      <td>6199.0</td>\n",
       "      <td>276.0</td>\n",
       "      <td>288</td>\n",
       "      <td>0.0</td>\n",
       "      <td>12.0</td>\n",
       "      <td>...</td>\n",
       "      <td>0.0</td>\n",
       "      <td>0.0</td>\n",
       "      <td>0.0</td>\n",
       "      <td>22.0</td>\n",
       "      <td>34.0</td>\n",
       "      <td>3.0</td>\n",
       "      <td>2.0</td>\n",
       "      <td>1.0</td>\n",
       "      <td>1.0</td>\n",
       "      <td>38477</td>\n",
       "    </tr>\n",
       "    <tr>\n",
       "      <th>1</th>\n",
       "      <td>2018-01</td>\n",
       "      <td>Alaska</td>\n",
       "      <td>207.0</td>\n",
       "      <td>6.0</td>\n",
       "      <td>1844.0</td>\n",
       "      <td>1621.0</td>\n",
       "      <td>249.0</td>\n",
       "      <td>137</td>\n",
       "      <td>0.0</td>\n",
       "      <td>0.0</td>\n",
       "      <td>...</td>\n",
       "      <td>0.0</td>\n",
       "      <td>0.0</td>\n",
       "      <td>0.0</td>\n",
       "      <td>13.0</td>\n",
       "      <td>20.0</td>\n",
       "      <td>5.0</td>\n",
       "      <td>0.0</td>\n",
       "      <td>0.0</td>\n",
       "      <td>0.0</td>\n",
       "      <td>4429</td>\n",
       "    </tr>\n",
       "    <tr>\n",
       "      <th>2</th>\n",
       "      <td>2018-01</td>\n",
       "      <td>Arizona</td>\n",
       "      <td>5686.0</td>\n",
       "      <td>413.0</td>\n",
       "      <td>11659.0</td>\n",
       "      <td>6992.0</td>\n",
       "      <td>1074.0</td>\n",
       "      <td>531</td>\n",
       "      <td>0.0</td>\n",
       "      <td>10.0</td>\n",
       "      <td>...</td>\n",
       "      <td>0.0</td>\n",
       "      <td>0.0</td>\n",
       "      <td>0.0</td>\n",
       "      <td>30.0</td>\n",
       "      <td>14.0</td>\n",
       "      <td>9.0</td>\n",
       "      <td>0.0</td>\n",
       "      <td>1.0</td>\n",
       "      <td>0.0</td>\n",
       "      <td>28627</td>\n",
       "    </tr>\n",
       "    <tr>\n",
       "      <th>3</th>\n",
       "      <td>2018-01</td>\n",
       "      <td>Arkansas</td>\n",
       "      <td>4162.0</td>\n",
       "      <td>555.0</td>\n",
       "      <td>4935.0</td>\n",
       "      <td>5061.0</td>\n",
       "      <td>232.0</td>\n",
       "      <td>323</td>\n",
       "      <td>37.0</td>\n",
       "      <td>7.0</td>\n",
       "      <td>...</td>\n",
       "      <td>0.0</td>\n",
       "      <td>0.0</td>\n",
       "      <td>0.0</td>\n",
       "      <td>13.0</td>\n",
       "      <td>13.0</td>\n",
       "      <td>1.0</td>\n",
       "      <td>0.0</td>\n",
       "      <td>0.0</td>\n",
       "      <td>0.0</td>\n",
       "      <td>17483</td>\n",
       "    </tr>\n",
       "    <tr>\n",
       "      <th>4</th>\n",
       "      <td>2018-01</td>\n",
       "      <td>California</td>\n",
       "      <td>55292.0</td>\n",
       "      <td>0.0</td>\n",
       "      <td>37335.0</td>\n",
       "      <td>22919.0</td>\n",
       "      <td>3495.0</td>\n",
       "      <td>0</td>\n",
       "      <td>0.0</td>\n",
       "      <td>0.0</td>\n",
       "      <td>...</td>\n",
       "      <td>0.0</td>\n",
       "      <td>0.0</td>\n",
       "      <td>0.0</td>\n",
       "      <td>0.0</td>\n",
       "      <td>0.0</td>\n",
       "      <td>0.0</td>\n",
       "      <td>0.0</td>\n",
       "      <td>0.0</td>\n",
       "      <td>0.0</td>\n",
       "      <td>119910</td>\n",
       "    </tr>\n",
       "  </tbody>\n",
       "</table>\n",
       "<p>5 rows × 27 columns</p>\n",
       "</div>"
      ],
      "text/plain": [
       "     month       state   permit  permit_recheck  handgun  long_gun   other  \\\n",
       "0  2018-01     Alabama  23930.0             0.0   5692.0    6199.0   276.0   \n",
       "1  2018-01      Alaska    207.0             6.0   1844.0    1621.0   249.0   \n",
       "2  2018-01     Arizona   5686.0           413.0  11659.0    6992.0  1074.0   \n",
       "3  2018-01    Arkansas   4162.0           555.0   4935.0    5061.0   232.0   \n",
       "4  2018-01  California  55292.0             0.0  37335.0   22919.0  3495.0   \n",
       "\n",
       "   multiple  admin  prepawn_handgun   ...    returned_other  rentals_handgun  \\\n",
       "0       288    0.0             12.0   ...               0.0              0.0   \n",
       "1       137    0.0              0.0   ...               0.0              0.0   \n",
       "2       531    0.0             10.0   ...               0.0              0.0   \n",
       "3       323   37.0              7.0   ...               0.0              0.0   \n",
       "4         0    0.0              0.0   ...               0.0              0.0   \n",
       "\n",
       "   rentals_long_gun  private_sale_handgun  private_sale_long_gun  \\\n",
       "0               0.0                  22.0                   34.0   \n",
       "1               0.0                  13.0                   20.0   \n",
       "2               0.0                  30.0                   14.0   \n",
       "3               0.0                  13.0                   13.0   \n",
       "4               0.0                   0.0                    0.0   \n",
       "\n",
       "   private_sale_other  return_to_seller_handgun  return_to_seller_long_gun  \\\n",
       "0                 3.0                       2.0                        1.0   \n",
       "1                 5.0                       0.0                        0.0   \n",
       "2                 9.0                       0.0                        1.0   \n",
       "3                 1.0                       0.0                        0.0   \n",
       "4                 0.0                       0.0                        0.0   \n",
       "\n",
       "   return_to_seller_other  totals  \n",
       "0                     1.0   38477  \n",
       "1                     0.0    4429  \n",
       "2                     0.0   28627  \n",
       "3                     0.0   17483  \n",
       "4                     0.0  119910  \n",
       "\n",
       "[5 rows x 27 columns]"
      ]
     },
     "execution_count": 3,
     "metadata": {},
     "output_type": "execute_result"
    }
   ],
   "source": [
    "# Use .head() .info() and .describe() to explore the dataset\n",
    "\n",
    "guns.head()\n",
    "#guns.tail()\n",
    "#guns.info()\n",
    "#guns.describe()\n",
    "#guns['prepawn_handgun'].values"
   ]
  },
  {
   "cell_type": "markdown",
   "metadata": {},
   "source": [
    "### Part D. Subtask 1 (1 point)\n",
    "\n",
    "First, use __pd.to_datetime()__ with argument __yearfirst=True__ to convert the column __\"month\"__ to a Pandas Series with DateTime objects. Add a new column __\"year\"__ to __guns__ dataframe and save the results of conversion there.\n",
    "https://pandas.pydata.org/pandas-docs/stable/generated/pandas.to_datetime.html\n",
    "\n",
    "You can access Python __datetime.date__ objects via the __.dt__ property of Pandas Series:\n",
    "https://pandas.pydata.org/pandas-docs/stable/generated/pandas.Series.dt.date.html\n",
    "\n",
    "Look up the attributes of __datetime.date__ class, we will need attribute __.year__\n",
    "https://docs.python.org/3/library/datetime.html\n"
   ]
  },
  {
   "cell_type": "code",
   "execution_count": 4,
   "metadata": {
    "deletable": false,
    "nbgrader": {
     "checksum": "5d38799e7e89ed4068240a957046341a",
     "grade": false,
     "grade_id": "cell-377e7ae405383f99",
     "locked": false,
     "schema_version": 1,
     "solution": true
    }
   },
   "outputs": [
    {
     "data": {
      "text/plain": [
       "0   2018-01-01\n",
       "1   2018-01-01\n",
       "2   2018-01-01\n",
       "3   2018-01-01\n",
       "4   2018-01-01\n",
       "Name: year, dtype: datetime64[ns]"
      ]
     },
     "execution_count": 4,
     "metadata": {},
     "output_type": "execute_result"
    }
   ],
   "source": [
    "guns['month'].head()\n",
    "guns['year'] = pd.to_datetime(guns['month'], yearfirst=True)\n",
    "guns['year'].head()\n"
   ]
  },
  {
   "cell_type": "code",
   "execution_count": 5,
   "metadata": {
    "collapsed": true,
    "deletable": false,
    "editable": false,
    "nbgrader": {
     "checksum": "06458b9c642074e89ce5dfe4af3f0493",
     "grade": true,
     "grade_id": "cell-fd44161086b39a45",
     "locked": true,
     "points": 1,
     "schema_version": 1,
     "solution": false
    }
   },
   "outputs": [],
   "source": [
    "assert guns['year'].min(), guns['year'].max() == (1998, 2018)"
   ]
  },
  {
   "cell_type": "markdown",
   "metadata": {},
   "source": [
    "### Part D. Subtask 2 (1 point)\n",
    "\n",
    "Group __guns__ dataframe by year and sum up the __totals__ (together, regardless of state). Use the variables\n",
    "__totals_2000__ and __totals_2017__ to store the corresponding results.\n",
    "\n",
    "You will need https://pandas.pydata.org/pandas-docs/stable/generated/pandas.DataFrame.groupby.html\n",
    "and this https://stackoverflow.com/questions/32751229/pandas-sum-by-groupby-but-exclude-certain-columns"
   ]
  },
  {
   "cell_type": "code",
   "execution_count": 6,
   "metadata": {
    "collapsed": true,
    "deletable": false,
    "nbgrader": {
     "checksum": "cc73112d32cf912483a76558595d8dd6",
     "grade": false,
     "grade_id": "cell-75001ba281dc95cc",
     "locked": false,
     "schema_version": 1,
     "solution": true
    },
    "scrolled": true
   },
   "outputs": [],
   "source": [
    "\n",
    "totals = guns.groupby('year')['totals'].sum()\n",
    "totals_2000 = totals.iloc[14:26].sum() # creates a series\n",
    "totals_2017 = totals.iloc[218:230].sum()\n"
   ]
  },
  {
   "cell_type": "code",
   "execution_count": 7,
   "metadata": {
    "collapsed": true,
    "deletable": false,
    "editable": false,
    "nbgrader": {
     "checksum": "5f21eb3e4f3e773cb9a3d47b10247bfa",
     "grade": true,
     "grade_id": "cell-b7846271cdcb45c0",
     "locked": true,
     "points": 1,
     "schema_version": 1,
     "solution": false
    }
   },
   "outputs": [],
   "source": [
    "assert totals_2000 == 8427096\n",
    "assert totals_2017 == 24955919"
   ]
  },
  {
   "cell_type": "markdown",
   "metadata": {},
   "source": [
    "### Part D. Subtask 3 (1 point)\n",
    "\n",
    "Group data by state (regardless of year) and calculate the mean value of __long_gun__ and __handgun__ checks separately for each state. Calculate the number of states that had more long gun background checks on average over the years than handgun checks. Calculate the number of states with more handgun checks. Store these results in __states_with_more_long_guns__ and __states_with_more_handguns__ variables, respectively.\n",
    "\n",
    "Hint: Use vector operations. No for loops are needed. A result of comparison of two vectors is a vector of booleans. You can sum up the vector of booleans to calculate the number of True values in it."
   ]
  },
  {
   "cell_type": "code",
   "execution_count": 40,
   "metadata": {
    "deletable": false,
    "nbgrader": {
     "checksum": "86ec1f1021d7ed9c3663746436b7eeba",
     "grade": false,
     "grade_id": "cell-48eea5c5fac136c1",
     "locked": false,
     "schema_version": 1,
     "solution": true
    }
   },
   "outputs": [],
   "source": [
    "longguns_state = guns.groupby('state')['long_gun'].mean()\n",
    "handguns_state = guns.groupby('state')['handgun'].mean()\n",
    "states_with_more_long_guns = sum(longguns_state > handguns_state)\n",
    "states_with_more_handguns = sum(longguns_state < handguns_state)"
   ]
  },
  {
   "cell_type": "code",
   "execution_count": 41,
   "metadata": {
    "collapsed": true,
    "deletable": false,
    "editable": false,
    "nbgrader": {
     "checksum": "3b308cfd316b28a947f9702773d5dca7",
     "grade": true,
     "grade_id": "cell-ec454c9539fb239e",
     "locked": true,
     "points": 1,
     "schema_version": 1,
     "solution": false
    }
   },
   "outputs": [],
   "source": [
    "assert states_with_more_long_guns == 37\n",
    "assert states_with_more_handguns == 18"
   ]
  }
 ],
 "metadata": {
  "kernelspec": {
   "display_name": "Python 3",
   "language": "python",
   "name": "python3"
  },
  "language_info": {
   "codemirror_mode": {
    "name": "ipython",
    "version": 3
   },
   "file_extension": ".py",
   "mimetype": "text/x-python",
   "name": "python",
   "nbconvert_exporter": "python",
   "pygments_lexer": "ipython3",
   "version": "3.6.1"
  }
 },
 "nbformat": 4,
 "nbformat_minor": 2
}
