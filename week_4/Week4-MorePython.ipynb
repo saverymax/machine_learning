{
 "cells": [
  {
   "cell_type": "markdown",
   "metadata": {
    "slideshow": {
     "slide_type": "slide"
    }
   },
   "source": [
    "# Week 4 \n",
    "## What else you need to know about Python syntaxis and functions\n",
    "\n",
    "Alexander Goncearenco"
   ]
  },
  {
   "cell_type": "markdown",
   "metadata": {
    "slideshow": {
     "slide_type": "slide"
    }
   },
   "source": []
  },
  {
   "cell_type": "code",
   "execution_count": null,
   "metadata": {
    "collapsed": true,
    "slideshow": {
     "slide_type": "skip"
    }
   },
   "outputs": [],
   "source": [
    "primes = []\n",
    "i = 2\n",
    "while len(primes) < 25:\n",
    "    for p in primes:\n",
    "        if i % p == 0:\n",
    "            break\n",
    "    else:\n",
    "        primes.append(i)\n",
    "    i += 1\n",
    "\n",
    "print(primes)"
   ]
  },
  {
   "cell_type": "code",
   "execution_count": null,
   "metadata": {
    "collapsed": true,
    "slideshow": {
     "slide_type": "skip"
    }
   },
   "outputs": [],
   "source": []
  },
  {
   "cell_type": "code",
   "execution_count": 48,
   "metadata": {
    "slideshow": {
     "slide_type": "slide"
    }
   },
   "outputs": [
    {
     "name": "stdout",
     "output_type": "stream",
     "text": [
      "0\n",
      "1\n",
      "2\n",
      "3\n",
      "4\n",
      "Squared from list:\n",
      "[0, 1, 4, 9, 16]\n",
      "Squared from iterable:\n",
      "<generator object <genexpr> at 0x104296410>\n"
     ]
    }
   ],
   "source": [
    "# list and generator comprehensions\n",
    "\n",
    "def square(val):\n",
    "    print(val)\n",
    "    return val ** 2\n",
    "\n",
    "squared_numbers = [square(i) for i in range(5)]\n",
    "print('Squared from list:')\n",
    "print(squared_numbers)\n",
    "\n",
    "squared_numbers = (square(i) for i in range(5))\n",
    "print('Squared from iterable:')\n",
    "print(squared_numbers)"
   ]
  },
  {
   "cell_type": "code",
   "execution_count": null,
   "metadata": {
    "collapsed": true,
    "slideshow": {
     "slide_type": "slide"
    }
   },
   "outputs": [],
   "source": [
    "# Decorators\n",
    "def decorator(inner):\n",
    "    def inner_decorator():\n",
    "        print('before')\n",
    "        inner()\n",
    "        print('after')\n",
    "    return inner_decorator\n",
    "\n",
    "def decorated():\n",
    "    print('decorated')\n",
    "\n",
    "f = decorator(decorated)\n",
    "f()"
   ]
  },
  {
   "cell_type": "code",
   "execution_count": 7,
   "metadata": {
    "slideshow": {
     "slide_type": "slide"
    }
   },
   "outputs": [
    {
     "name": "stdout",
     "output_type": "stream",
     "text": [
      "88\n",
      "done with the decorating\n"
     ]
    }
   ],
   "source": [
    "def decorator(funk):\n",
    "    def inner_stuff():\n",
    "        print(funk()*22)\n",
    "        print('done with the decorating')\n",
    "    return inner_stuff\n",
    "\n",
    "def funky_time():\n",
    "    return(2*2)\n",
    "\n",
    "fc = decorator(funky_time)\n",
    "fc()"
   ]
  },
  {
   "cell_type": "code",
   "execution_count": 8,
   "metadata": {
    "slideshow": {
     "slide_type": "fragment"
    }
   },
   "outputs": [
    {
     "name": "stdout",
     "output_type": "stream",
     "text": [
      "88\n",
      "done with the decorating\n"
     ]
    }
   ],
   "source": [
    "@decorator\n",
    "def funky_time():\n",
    "    return(2*2)\n",
    "    \n",
    "funky_time()\n",
    "\n",
    "# the use of the decorator is that it can alter whatever future functions you create. wraps your function of interest \n",
    "# reusable function."
   ]
  },
  {
   "cell_type": "code",
   "execution_count": 2,
   "metadata": {
    "slideshow": {
     "slide_type": "slide"
    }
   },
   "outputs": [
    {
     "name": "stdout",
     "output_type": "stream",
     "text": [
      "1\n",
      "First time function runs with these arguments takes  1.0022234916687012\n",
      "Second time function runs with these arguments takes  0.0003802776336669922\n",
      "2\n",
      "Changing the arguments causes slow_compute to be run again and takes  1.001969337463379\n"
     ]
    }
   ],
   "source": [
    "import time\n",
    "import functools\n",
    "@functools.lru_cache()\n",
    "def slow_compute(n):\n",
    "    time.sleep(1)\n",
    "    print(n)\n",
    "\n",
    "start = time.time()\n",
    "slow_compute(1)\n",
    "print('First time function runs with these arguments takes ', time.time() - start)\n",
    "\n",
    "start = time.time()\n",
    "slow_compute(1)\n",
    "print('Second time function runs with these arguments takes ', time.time() - start)\n",
    "\n",
    "start = time.time()\n",
    "slow_compute(2)\n",
    "print('Changing the arguments causes slow_compute to be run again and takes ', time.time() - start)"
   ]
  },
  {
   "cell_type": "code",
   "execution_count": 28,
   "metadata": {
    "slideshow": {
     "slide_type": "slide"
    }
   },
   "outputs": [
    {
     "name": "stdout",
     "output_type": "stream",
     "text": [
      "[1, 4, 9]\n"
     ]
    }
   ],
   "source": [
    "def f(x):\n",
    "    return x*x\n",
    "\n",
    "print(list(map(f, [1, 2, 3]))) # applies function f to list of values. must use list to return \n",
    "# map creates a generator, but need list to actually generate values"
   ]
  },
  {
   "cell_type": "code",
   "execution_count": 30,
   "metadata": {
    "slideshow": {
     "slide_type": "fragment"
    }
   },
   "outputs": [
    {
     "name": "stdout",
     "output_type": "stream",
     "text": [
      "[1, 4, 9]\n"
     ]
    }
   ],
   "source": [
    "from multiprocessing import Pool\n",
    "\n",
    "with Pool(5) as p:\n",
    "    print(p.map(f, [1, 2, 3]))"
   ]
  },
  {
   "cell_type": "code",
   "execution_count": 49,
   "metadata": {
    "slideshow": {
     "slide_type": "slide"
    }
   },
   "outputs": [
    {
     "data": {
      "text/plain": [
       "10"
      ]
     },
     "execution_count": 49,
     "metadata": {},
     "output_type": "execute_result"
    }
   ],
   "source": [
    "import functools\n",
    "\n",
    "def plus(val, n):\n",
    "    return val + n\n",
    "\n",
    "f = functools.partial(plus, 5)\n",
    "f(5)"
   ]
  },
  {
   "cell_type": "code",
   "execution_count": null,
   "metadata": {
    "collapsed": true
   },
   "outputs": [],
   "source": [
    "# filter example\n"
   ]
  }
 ],
 "metadata": {
  "celltoolbar": "Slideshow",
  "kernelspec": {
   "display_name": "Python 3",
   "language": "python",
   "name": "python3"
  },
  "language_info": {
   "codemirror_mode": {
    "name": "ipython",
    "version": 3
   },
   "file_extension": ".py",
   "mimetype": "text/x-python",
   "name": "python",
   "nbconvert_exporter": "python",
   "pygments_lexer": "ipython3",
   "version": "3.6.1"
  }
 },
 "nbformat": 4,
 "nbformat_minor": 2
}
