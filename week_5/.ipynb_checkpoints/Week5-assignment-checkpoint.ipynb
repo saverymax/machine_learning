{
 "cells": [
  {
   "cell_type": "markdown",
   "metadata": {},
   "source": [
    "# Week5 Assignments - Plotting\n",
    "\n",
    "This assignment is exploratory. You still have to submit the assignment, but no need to follow the specific instructions provided.\n",
    "\n",
    "The basic idea is to play with some of the plotting functions. Plotting tends to be somewhat situation- and data- specific. If you already have data, we encourage you to use those data in this assignment and play around with some plots. We can provide feedback through OKPy to any explicit questions you may have or anything we notice in your code.\n",
    "\n",
    "If you do not have data, you can obtain data from any of the following sources:\n",
    "* https://catalog.data.gov/dataset\n",
    "* http://mlr.cs.umass.edu/ml/datasets.html\n",
    "* https://www.kaggle.com/datasets\n",
    "* https://opendata.socrata.com\n",
    "\n",
    "\n",
    "\n",
    "Either from your data or from the data provided above, try to create plots to glean anything interesting from the data. Plot features against each other and color by some factor, overlay histograms of different features, create boxplots, etc. Feel free to look at some of the plot templates available on the matplotlib / bokeh / seaborn websites, and see if you can recreate something they have done.\n",
    "\n",
    "For more specificity, you can try to work through the following tasks:\n",
    "1. With matplotlib: Plot a notched boxplot of a given feature.\n",
    "2. With matplotlib: Plot an overlaid histogram of two features, each feature in a different color.\n",
    "3. With Pandas: Plot a histogram of a specific column.\n",
    "4. With Seaborn: Plot a histogram with a density line.\n",
    "5. With Seaborn: Plot a scatterplot with a trend line.\n",
    "6. With matplotlib: Plot three scatterplots on the same plot, with each having a different color and shape.\n",
    "\n",
    "Do not necessarily feel bound by these tasks - while you should know how to complete them, preferably look at your dataset and think of plots that would be informative, and try to implement them. \n",
    "\n",
    "If you don't have a dataset that catches your interest, you can use sklearn's built-in wine dataset. In the cell below we've provided the code to load it and format it for easier use. We've also provided the solution to the first task using the wine dataset."
   ]
  },
  {
   "cell_type": "code",
   "execution_count": null,
   "metadata": {
    "collapsed": true
   },
   "outputs": [],
   "source": [
    "\"\"\"\"Read in and format the wine dataset\"\"\"\n",
    "# Imports ---------------------------------------------------\n",
    "import matplotlib.pyplot as plt\n",
    "%matplotlib inline\n",
    "import pandas as pd\n",
    "import numpy as np\n",
    "from sklearn import datasets\n",
    "\n",
    "# Load data set  --------------------------------------------\n",
    "wine = datasets.load_wine()\n",
    "\n",
    "# let's make it a named dataframe\n",
    "# this way it is more comfortable to play with\n",
    "wine = pd.DataFrame(\n",
    "    data=np.c_[wine[\"data\"], wine[\"target\"]],\n",
    "    columns=wine.feature_names + [\"quality\"],\n",
    ")\n",
    "\n",
    "# let's take look at it\n",
    "print(wine.head())"
   ]
  },
  {
   "cell_type": "code",
   "execution_count": null,
   "metadata": {
    "collapsed": true
   },
   "outputs": [],
   "source": [
    "\"\"\"Explore wine alcohol content by quality\"\"\"\n",
    "# first, create a list to provide to the boxplot function\n",
    "# list will have three components, each component denotes a different\n",
    "# quality level (0, 1, 2). Each component will contain a pandas Series\n",
    "# of alcohol levels belonging to wine of the corresponding quality.\n",
    "data_to_plot = [wine.loc[wine[\"quality\"] == x, \"alcohol\"] for x in [0., 1., 2.]]\n",
    "\n",
    "# let's plot it! and make it a notched boxplot\n",
    "# we will also use the patch_artist, for stylistic purposes\n",
    "plt.boxplot(data_to_plot, notch=True, patch_artist=True)\n",
    "plt.show()"
   ]
  },
  {
   "cell_type": "code",
   "execution_count": null,
   "metadata": {
    "collapsed": true
   },
   "outputs": [],
   "source": [
    "import bokeh"
   ]
  }
 ],
 "metadata": {
  "kernelspec": {
   "display_name": "Python 3",
   "language": "python",
   "name": "python3"
  },
  "language_info": {
   "codemirror_mode": {
    "name": "ipython",
    "version": 3
   },
   "file_extension": ".py",
   "mimetype": "text/x-python",
   "name": "python",
   "nbconvert_exporter": "python",
   "pygments_lexer": "ipython3",
   "version": "3.6.1"
  }
 },
 "nbformat": 4,
 "nbformat_minor": 2
}
