{
 "cells": [
  {
   "cell_type": "markdown",
   "metadata": {
    "deletable": false,
    "editable": false,
    "nbgrader": {
     "checksum": "4e714461c460b9dd75e28575ef4f1a4b",
     "grade": false,
     "grade_id": "cell-f83bb58b03292578",
     "locked": true,
     "schema_version": 1,
     "solution": false
    }
   },
   "source": [
    "# Week6 Assignment - Data retrieval and dataset preprocessing.\n",
    "\n",
    "For this assignment, you will need the iris flowers dataset available on the course website, under Week6 files. This is a dataset of 150 observations of flowers, with petal lengths and widths, and sepal lengths and widths.\n",
    "\n",
    "The basic goal of this assignment is to preprocess the iris dataset in preparation for a machine-learning algorithm.\n",
    "\n",
    "In the first component, you will load the dataset into a Pandas dataframe.\n",
    "\n",
    "In the second component, you will impute missing values in one of the columns. In this case, you will assign the average value in the column to the missing data points.\n",
    "\n",
    "In the third component, you will create two new columns that will approximate the sepal and petal sizes: One will equal the petal length multiplied by the petal width, and the other will equal the sepal length multiplied by the sepal width.\n",
    "\n",
    "In the fourth component, you will normalize the sepal and petal sizes.\n",
    "\n",
    "In the fifth component, you will add a column with a boolean value representing whether a flower belongs to the setosa species.\n",
    "\n",
    "All the exercises are designed so that the solutions will need only one or a few lines of code.\n",
    "\n",
    "Do not hesitate to contact instuctors and TA via #week6 channel on Slack if you get stuck. Join the channel first by clicking on Channels."
   ]
  },
  {
   "cell_type": "markdown",
   "metadata": {
    "deletable": false,
    "editable": false,
    "nbgrader": {
     "checksum": "3716bd2fa368564a743ec0720db7d48f",
     "grade": false,
     "grade_id": "cell-f6b1a85538f737d8",
     "locked": true,
     "schema_version": 1,
     "solution": false
    }
   },
   "source": [
    "## Part A. Read in the iris dataset. \n",
    "\n",
    "In this component you will read the iris dataset into a Pandas data frame. Make sure you download the iris.csv file from the course website. Do not download or load a different instance of the iris dataset: use the one from the course website as we have modified it for this exercise, and when we test your code we will test it against our version of the dataset. Also, do not manually modify the iris dataset.\n",
    "\n",
    "If you prefer to load the dataset by its URL, you can do that.\n",
    "\n",
    "Pay attention which directory you save the file to so that you can load it by its path.\n",
    "\n",
    "Once downloaded, use Pandas to read the file into a data frame.\n",
    "\n",
    "Save the data frame to a variable named iris_data."
   ]
  },
  {
   "cell_type": "code",
   "execution_count": 147,
   "metadata": {
    "deletable": false,
    "nbgrader": {
     "checksum": "3713eaa37f739bff72bd124b350a55a1",
     "grade": false,
     "grade_id": "cell-c1e7f79ad332b8f9",
     "locked": false,
     "schema_version": 1,
     "solution": true
    }
   },
   "outputs": [
    {
     "name": "stdout",
     "output_type": "stream",
     "text": [
      "   Id  SepalLengthCm  SepalWidthCm  PetalLengthCm  PetalWidthCm      Species\n",
      "0   1            5.1           3.5            1.4           0.2  Iris-setosa\n",
      "1   2            4.9           3.0            1.4           0.2  Iris-setosa\n",
      "2   3            4.7           3.2            1.3           0.2  Iris-setosa\n",
      "3   4            4.6           3.1            1.5           0.2  Iris-setosa\n",
      "4   5            5.0           3.6            1.4           0.2  Iris-setosa\n"
     ]
    }
   ],
   "source": [
    "import pandas as pd\n",
    "import numpy as np\n",
    "\n",
    "iris_raw_data = None\n",
    "\n",
    "iris_data = pd.read_table(\"Iris.csv\", sep = \",\")\n",
    "\n",
    "print(iris_data.head())"
   ]
  },
  {
   "cell_type": "code",
   "execution_count": 108,
   "metadata": {
    "collapsed": true,
    "deletable": false,
    "editable": false,
    "nbgrader": {
     "checksum": "0e2841e2b40deab458969ba9b4da0d03",
     "grade": true,
     "grade_id": "cell-fd50146eeead0c65",
     "locked": true,
     "points": 1,
     "schema_version": 1,
     "solution": false
    }
   },
   "outputs": [],
   "source": [
    "assert isinstance(iris_data, pd.core.frame.DataFrame)\n",
    "assert iris_data.shape == (150, 6)\n",
    "assert iris_data[\"SepalLengthCm\"].mean() == 5.815333333333334\n",
    "assert iris_data.isnull().sum().sum() == 7\n",
    "assert iris_data.isnull().values.any()"
   ]
  },
  {
   "cell_type": "markdown",
   "metadata": {},
   "source": [
    "## Part B. Impute missing data.\n",
    "\n",
    "Unfortunately it appears that there are some missing data points in the PetalLengthCm column.\n",
    "\n",
    "To resolve this, write a function that can find the mean of the PetalLengthCm column and replace the missing data points in the PetalLengthCm column with this mean.\n",
    "\n",
    "The function takes as input a Pandas data frame and a column name. The function will return a new Pandas data frame, with the missing data points replaced with the column mean.\n",
    "\n",
    "Run the function on the iris_data data frame and save the new data frame in the same variable (iris_data)."
   ]
  },
  {
   "cell_type": "code",
   "execution_count": 148,
   "metadata": {
    "deletable": false,
    "nbgrader": {
     "checksum": "f5742eab39f42a9d03d8859d9ad2c23e",
     "grade": false,
     "grade_id": "cell-bc8ce57a60e5fd7a",
     "locked": false,
     "schema_version": 1,
     "solution": true
    }
   },
   "outputs": [],
   "source": [
    "def impute_with_mean(df, column_name):\n",
    "    \"\"\"\n",
    "    Accepts a Pandas data frame and a column name as input.\n",
    "    \n",
    "    Returns a new Pandas data frame with missing data points in the column\n",
    "    replaced with the mean value for that column.\n",
    "    \"\"\"\n",
    "    #boston.fillna(boston.mean())\n",
    "    df[column_name].fillna(df[column_name].mean(), inplace = True) # inplace allows me to modify view, not a copy\n",
    "    return(df)\n",
    "\n",
    "iris_data = impute_with_mean(iris_data, \"PetalLengthCm\")\n",
    "# iris_data[\"PetalLengthCm\"].isnull().sum() # should be 0"
   ]
  },
  {
   "cell_type": "code",
   "execution_count": 103,
   "metadata": {
    "deletable": false,
    "editable": false,
    "nbgrader": {
     "checksum": "23246c3e4ddef407c89012560c17d650",
     "grade": true,
     "grade_id": "cell-165c467d2a6e7dde",
     "locked": true,
     "points": 1,
     "schema_version": 1,
     "solution": false
    }
   },
   "outputs": [],
   "source": [
    "assert not iris_data.isnull().values.any()\n",
    "assert iris_data[\"PetalLengthCm\"].median() == 4.25\n",
    "assert iris_data.equals(impute_with_mean(iris_data, \"SepalLengthCm\"))"
   ]
  },
  {
   "cell_type": "markdown",
   "metadata": {},
   "source": [
    "## Part C. Approximate full sizes.\n",
    "\n",
    "In this component you will create two new columns that approximate the sepal and petal sizes.\n",
    "\n",
    "The first new column will be named sepal_size and will be equal to: SepalLengthCm \\* SepalWidthCm\n",
    "\n",
    "The second new column will be named petal_size and will be equal to: PetalLengthCm \\* PetalWidthCm\n",
    "\n",
    "Add the appropriate columns below."
   ]
  },
  {
   "cell_type": "code",
   "execution_count": 149,
   "metadata": {
    "deletable": false,
    "nbgrader": {
     "checksum": "e81523194196443693048bde91cd4b33",
     "grade": false,
     "grade_id": "cell-8d46731c6bc218b6",
     "locked": false,
     "schema_version": 1,
     "solution": true
    }
   },
   "outputs": [],
   "source": [
    "iris_data[\"sepal_size\"] = iris_data[\"SepalLengthCm\"] * iris_data[\"SepalWidthCm\"]\n",
    "iris_data[\"petal_size\"] = iris_data[\"PetalLengthCm\"] * iris_data[\"PetalWidthCm\"]"
   ]
  },
  {
   "cell_type": "code",
   "execution_count": 117,
   "metadata": {
    "deletable": false,
    "editable": false,
    "nbgrader": {
     "checksum": "c690b30192f21c2483c25f5a2de5169a",
     "grade": true,
     "grade_id": "cell-c7edebc7b2cd1c7b",
     "locked": true,
     "points": 1,
     "schema_version": 1,
     "solution": false
    }
   },
   "outputs": [],
   "source": [
    "assert iris_data.shape == (150, 8)\n",
    "assert \"sepal_size\" in iris_data.columns\n",
    "assert \"petal_size\" in iris_data.columns\n",
    "assert iris_data[\"petal_size\"].sum() == 868.162937062937\n",
    "assert iris_data[\"sepal_size\"].sum() == 2656.15"
   ]
  },
  {
   "cell_type": "markdown",
   "metadata": {},
   "source": [
    "## Part D. Normalize sizes.\n",
    "\n",
    "For some machine-learning algorithms, we need to normalize data. This is generally done so that different features are on the same scales.\n",
    "\n",
    "In our case, sepal_size and petal_size are on different scales. Normalize them by subtracting the mean from each and dividing by the standard deviation. You can do this manually if you prefer, or you can use the scale function from sklearn.preprocessing.\n",
    "\n",
    "Note: If you do this manually, make sure to set the standard deviation to 0 degrees of freedom (ddof=0).\n",
    "\n",
    "Since you need to perform this operation twice, you may consider writing a function to handle this, though that is not a requirement.\n",
    "\n",
    "Save the new columns as: sepal_size_normalized, petal_size_normalized"
   ]
  },
  {
   "cell_type": "code",
   "execution_count": 151,
   "metadata": {
    "deletable": false,
    "nbgrader": {
     "checksum": "c0b6c90427260d6e4727b474d52689bf",
     "grade": false,
     "grade_id": "cell-377e7ae405383f99",
     "locked": false,
     "schema_version": 1,
     "solution": true
    }
   },
   "outputs": [
    {
     "name": "stdout",
     "output_type": "stream",
     "text": [
      "0      0.041746\n",
      "1     -0.882138\n",
      "2     -0.782417\n",
      "3     -1.011188\n",
      "4      0.085740\n",
      "5      0.983227\n",
      "6     -0.606439\n",
      "7     -2.201971\n",
      "8     -1.451133\n",
      "9     -1.556719\n",
      "10     0.666467\n",
      "11    -0.406998\n",
      "12    -0.970127\n",
      "13    -1.410071\n",
      "14     1.610881\n",
      "15     1.258926\n",
      "16     0.983227\n",
      "17     0.041746\n",
      "18     1.159205\n",
      "19     0.490489\n",
      "20     0.191327\n",
      "21     0.340908\n",
      "22    -0.970127\n",
      "23    -0.257416\n",
      "24    -0.406998\n",
      "25    -0.794149\n",
      "26    -0.207556\n",
      "27     0.144400\n",
      "28    -0.008115\n",
      "29    -0.782417\n",
      "         ...   \n",
      "120    1.282389\n",
      "121   -0.594707\n",
      "122    1.129875\n",
      "123   -0.204623\n",
      "124    1.291188\n",
      "125    1.563954\n",
      "126   -0.101969\n",
      "127    0.173729\n",
      "128    0.062277\n",
      "129    1.141607\n",
      "130    0.883506\n",
      "131    3.611162\n",
      "132    0.062277\n",
      "133   -0.019846\n",
      "134   -0.541914\n",
      "135    1.581552\n",
      "136    1.088814\n",
      "137    0.625406\n",
      "138    0.085740\n",
      "139    1.080015\n",
      "140    0.898171\n",
      "141    1.080015\n",
      "142   -0.600573\n",
      "143    1.188535\n",
      "144    1.291188\n",
      "145    0.701663\n",
      "146   -0.574176\n",
      "147    0.525685\n",
      "148    0.989093\n",
      "149   -0.002249\n",
      "Name: sepal_size_normalized, Length: 150, dtype: float64\n"
     ]
    }
   ],
   "source": [
    "from sklearn.preprocessing import scale\n",
    "iris_data[\"sepal_size_normalized\"] = pd.Series(scale(iris_data[\"sepal_size\"]))\n",
    "iris_data[\"petal_size_normalized\"] = pd.Series(scale(iris_data[\"petal_size\"]))"
   ]
  },
  {
   "cell_type": "code",
   "execution_count": 152,
   "metadata": {
    "deletable": false,
    "editable": false,
    "nbgrader": {
     "checksum": "f9aa3c9862b569f25dd652121635240e",
     "grade": true,
     "grade_id": "cell-fd44161086b39a45",
     "locked": true,
     "points": 1,
     "schema_version": 1,
     "solution": false
    }
   },
   "outputs": [],
   "source": [
    "assert np.isclose(iris_data[\"petal_size_normalized\"].mean(), 0)\n",
    "assert np.isclose(iris_data[\"petal_size_normalized\"].std(ddof=0), 1)\n",
    "assert np.isclose(iris_data[\"sepal_size_normalized\"].mean(), 0)\n",
    "assert np.isclose(iris_data[\"sepal_size_normalized\"].std(ddof=0), 1)"
   ]
  },
  {
   "cell_type": "markdown",
   "metadata": {},
   "source": [
    "## Part E. Add a boolean column.\n",
    "\n",
    "We are specifically interested in whether a given flower is from the setosa species.\n",
    "\n",
    "Add a column \"is_setosa\" to the data frame, that is true if we are dealing with a setosa and false otherwise."
   ]
  },
  {
   "cell_type": "code",
   "execution_count": 157,
   "metadata": {
    "deletable": false,
    "nbgrader": {
     "checksum": "cc73112d32cf912483a76558595d8dd6",
     "grade": false,
     "grade_id": "cell-75001ba281dc95cc",
     "locked": false,
     "schema_version": 1,
     "solution": true
    }
   },
   "outputs": [],
   "source": [
    "iris_data[\"is_setosa\"] = iris_data[\"Species\"] == \"Iris-setosa\""
   ]
  },
  {
   "cell_type": "code",
   "execution_count": 158,
   "metadata": {
    "collapsed": true,
    "deletable": false,
    "editable": false,
    "nbgrader": {
     "checksum": "1a52213d0c9a78ddf30e3b3d2f76ee76",
     "grade": true,
     "grade_id": "cell-b7846271cdcb45c0",
     "locked": true,
     "points": 1,
     "schema_version": 1,
     "solution": false
    }
   },
   "outputs": [],
   "source": [
    "assert sum(iris_data[\"is_setosa\"]) == 50\n",
    "assert iris_data.loc[iris_data[\"Species\"] == \"Iris-setosa\", \"is_setosa\"].all()\n",
    "assert iris_data[\"is_setosa\"].dtype == \"bool\""
   ]
  }
 ],
 "metadata": {
  "kernelspec": {
   "display_name": "Python 3",
   "language": "python",
   "name": "python3"
  },
  "language_info": {
   "codemirror_mode": {
    "name": "ipython",
    "version": 3
   },
   "file_extension": ".py",
   "mimetype": "text/x-python",
   "name": "python",
   "nbconvert_exporter": "python",
   "pygments_lexer": "ipython3",
   "version": "3.6.1"
  }
 },
 "nbformat": 4,
 "nbformat_minor": 2
}
