{
 "cells": [
  {
   "cell_type": "code",
   "execution_count": null,
   "metadata": {
    "collapsed": true
   },
   "outputs": [],
   "source": [
    "# Week 3 Assignment\n",
    "\n",
    "We encourage you to ask questions about Week 3 topic and this assignment on Slack channel #week3. If you have not joined the channel, click on \"Channels\" and choose the channels to join. \n",
    "\n",
    "The assignment for __Week 3__ has 6 components. The first component is a self-test quiz. It is not graded and is provided for self checking. The next three exercises are each worth 1 point, and each of them is graded as pass or fail. In order to pass you need to implement the required functionality and pass the assert tests. If you think that some assertions are incorrect please contact us on Slack #week3, it sometimes happens. The last two exercises are not graded but we highly recommend attempting to solve them. Depending on your Python skills, they may require some documentation reading, but this is a skill you all need to develop. \n",
    "\n",
    "Make sure that there are no errors, i.e. exceptions raised anywhere in the notebook. Exception in one cell will stop notebook execution and the code in all the following cells will not run.\n",
    "\n",
    "Official Python documentation and tutorials is your main reference. For instance, Python reference on Exceptions https://docs.python.org/3/library/exceptions.html and Python tutorial on Classes https://docs.python.org/3/tutorial/classes.html\n",
    "\n",
    "There are several online texbooks that may be helpful in understanding the object oriented programming concepts and the practical aspects of OOP in Python http://python-textbok.readthedocs.io/en/1.0/Classes.html  and https://python-textbok.readthedocs.io/en/1.0/Object_Oriented_Programming.html\n",
    "\n",
    "If you are interested in learning about how OOP approach is applied in Software Engineering and Design, there is a great introduction by IBM https://www.ibm.com/developerworks/library/ws-using-oo/\n",
    "\n",
    "In this course we focus mainly on the aspects that will become important in applying data analysis and machine learning Python packages. We assume that you already have some basic knowledge of the Python language and are comfortable programming in it."
   ]
  },
  {
   "cell_type": "markdown",
   "metadata": {},
   "source": [
    "## Part A: self-test quiz (not graded)\n",
    "\n",
    "### 0. Which of the following represents a distinctly identifiable entity in the real world?\n",
    "- a. A class\n",
    "- b. An object\n",
    "- c. A method\n",
    "- c. An attribute\n",
    "\n",
    "### 1. An object is a data entity, and any program that needs to can access any of that object's data.\n",
    "- a. True\n",
    "- b. False\n",
    "- c. Sometimes\n",
    "\n",
    "### 2. Which statement most accurately describes the relationship between a parent and child classes?\n",
    "- a. A parent class contains the exact same code as its child.\n",
    "- b. A child class is unrelated to its parent.\n",
    "- c. A parent class inherits attributes and behavior from its child.\n",
    "- d. A child class contains code from its parent without copying it, is more specialized and can define additional attributes.\n",
    "\n",
    "### 3. A well-written object class can be described as:\n",
    "- a. Has well-defined boundaries, does only a few things, and knows only about its own data.\n",
    "- b. Is largely data oriented and open to any program that needs to access it.\n",
    "- c. Has knowledge only of the other objects and classes it needs to perform its functions.\n",
    "- d. a and b\n",
    "- e. a and c\n",
    "- f. All of the above\n",
    "\n",
    "### 4. Which statement(s) best describes an object's attributes?\n",
    "- a. Attributes act like the nouns of an object.\n",
    "- b. Attributes describe an object's behavior.\n",
    "- c. Attributes can mean pretty much whatever you want them to mean — that's what we mean by \"open source.\"\n",
    "- d. a and c\n",
    "- e. b and c\n",
    "- f. All of the above.\n",
    "\n",
    "### 5. Which statement(s) best describes an object's behavior (methods)?\n",
    "- a. Behavior acts like the nouns of an object.\n",
    "- b. Behavior, like attributes, can be defined however we want — that's what we mean by \"open source.\"\n",
    "- c. Behavior acts like the verbs of an object.\n",
    "- d. All of the above.\n",
    "\n",
    "### 6. Encapsulation means \"open to all\" and indicates that the internal workings of an object are entirely visible to the outside world.\n",
    "- a. True\n",
    "- b. False\n",
    "- c. Sometimes\n",
    "\n",
    "### 7. Which statement(s) best describes inheritance?\n",
    "- a. One class (the child) generalizes the attributes and behavior of another class (the parent), making the child object more generalized.\n",
    "- b. The child class inherits from its parent, adding specialized attributes and behavior.\n",
    "- c. When a child class is created, a well-known best practice is for the developer to manually copy/paste all of the source code from the parent class to ensure that nothing gets broken.\n",
    "- d. When a child class inherits from its parent, only the additional attributes and behavior must be coded, which is one of the benefits of OOP.\n",
    "- e. a and b\n",
    "- f. b and d\n",
    "- g. All of the above.\n",
    "\n",
    "\n",
    "### 8. What will be the output of the following code snippet?\n",
    "\n",
    "    class Test:\n",
    "        def __init__(self):\n",
    "            self.x = 1\n",
    "            self.__y = 1\n",
    "\n",
    "        def getY(self):\n",
    "            return self.__y\n",
    "\n",
    "    val = Test()\n",
    "    print(val.__y)\n",
    "\n",
    "- a. The program has an error because y is private and should not access it from outside the class. \n",
    "- b. The program has an error because you cannot name a variable using \\_\\_y. \n",
    "- c. The program runs fine and prints 1. \n",
    "- d. The program runs fine and prints nothing.\n"
   ]
  },
  {
   "cell_type": "markdown",
   "metadata": {},
   "source": [
    "#### Answers to quiz\n",
    "\n",
    "0. b 1. b 2. d 3. e 4. a 5. c 6. b 7. f 8. a"
   ]
  },
  {
   "cell_type": "markdown",
   "metadata": {
    "collapsed": true
   },
   "source": [
    "## Part B: Creating and applying a custom exception, working with strings (1 point)\n",
    "\n",
    "Define a new class __SSNException__ that inherits from __Exception__ class. We will use this class to raise exceptions in case of SSN errors. This class does not have to modify behavior or attributes of the parent __Exception__ class.\n",
    "Create a function __verify_ssn__ that accepts SSN as a string argument and raises an __SSNException__ exception if the string does not match the \"000-00-0000\" pattern. If the SSN format is correct the function does nothing.\n",
    "\n",
    "As always, provide docstring documentation for each class and function you define."
   ]
  },
  {
   "cell_type": "code",
   "execution_count": 82,
   "metadata": {
    "collapsed": true,
    "nbgrader": {
     "grade": false,
     "grade_id": "cell-891a23fd09ddc413",
     "locked": false,
     "schema_version": 1,
     "solution": true
    }
   },
   "outputs": [],
   "source": [
    "# My CODE HERE\n",
    "\n",
    "import re\n",
    "    \n",
    "class SSNException(Exception):\n",
    "    \"\"\"Raise error if SSN does not fit expected format\"\"\"\n",
    "    pass    \n",
    "            \n",
    "def verify_ssn(SSN):\n",
    "    \"\"\"Verify if the given ssn fits the expected format\"\"\"\n",
    "    \n",
    "    if re.match('\\d{3}-\\d{2}-\\d{4}', SSN) == None:\n",
    "        raise SSNException(\"The does not match the expected pattern\")\n",
    "    "
   ]
  },
  {
   "cell_type": "code",
   "execution_count": 21,
   "metadata": {
    "collapsed": true,
    "nbgrader": {
     "grade": true,
     "grade_id": "cell-d29509f3af30d4b0",
     "locked": true,
     "points": 1,
     "schema_version": 1,
     "solution": false
    }
   },
   "outputs": [],
   "source": [
    "assert callable(verify_ssn)\n",
    "assert issubclass(SSNException, Exception)\n",
    "\n",
    "try:\n",
    "    _saved_exception = None\n",
    "    verify_ssn(\"\")\n",
    "except Exception as _e:\n",
    "    _saved_exception = _e\n",
    "assert type(_saved_exception) is SSNException\n",
    "\n",
    "try:\n",
    "    _saved_exception = None\n",
    "    verify_ssn(\"123-45-6789\")\n",
    "except Exception as _e:\n",
    "    _saved_exception = _e\n",
    "\n",
    "assert _saved_exception is None\n",
    "\n",
    "try:\n",
    "    _saved_exception = None\n",
    "    verify_ssn(\"123-45-\")\n",
    "except Exception as _e:\n",
    "    _saved_exception = _e\n",
    "\n",
    "assert type(_saved_exception) is SSNException\n",
    "\n",
    "try:\n",
    "    _saved_exception = None\n",
    "    verify_ssn(\"123-00-45AA\")\n",
    "except Exception as _e:\n",
    "    _saved_exception = _e\n",
    "\n",
    "assert type(_saved_exception) is SSNException"
   ]
  },
  {
   "cell_type": "markdown",
   "metadata": {},
   "source": [
    "## Part C: Initializing objects, using static attributes and overriding magic methods (1 point)\n",
    "\n",
    "Define a new class __Client__ that would describe a client's personal information as object instance attributes __name__ and __SSN__. These attributes should be different for each client, i.e. for each __Client__ instance. \n",
    "\n",
    "Example of usage:\n",
    "\n",
    "    client = Client(name=\"John Johnson\", ssn=\"111-22-3333\")\n",
    "\n",
    "While initializing the object for __Client__ you should call __verify_ssn__ function to validate the correctness of the SSN provided.\n",
    "\n",
    "Client class should also have a class attribute __organization__ that is going to be the same for all __Client__ objects once it is set. Sometimes such attributes are also called static.\n",
    "\n",
    "Do not forget to provide docstring documentation.\n",
    "\n",
    "Optionally, make __Client__ object instance attributes hidden so that they could not be accessed directly (hint: self.__ssn).\n",
    "\n",
    "Optionally, define a method __\\_\\_str\\_\\___ that would allow printing client information in user convenient way. So that print(client) would return something like \"Microsoft client John Johnson (SSN xxx-xx-3333)\", where \"Microsoft\" in our example is the name of organization. Note that __\\_\\_str\\_\\___ should return a string, not print it."
   ]
  },
  {
   "cell_type": "code",
   "execution_count": 97,
   "metadata": {
    "nbgrader": {
     "grade": false,
     "grade_id": "cell-911bbab271d62bff",
     "locked": false,
     "schema_version": 1,
     "solution": true
    }
   },
   "outputs": [],
   "source": [
    "# My code is below:\n",
    "import re\n",
    "class Client():\n",
    "    \"\"\"Class managing clients personal information\"\"\"\n",
    "    \n",
    "    organization = \"Microsoft\" # set the class attribute , i.e., static attribute \n",
    "\n",
    "    @staticmethod # Static methods can work independently of initiated objects. see https://stackoverflow.com/questions/12179271/meaning-of-classmethod-and-staticmethod-for-beginner\n",
    "    def verify_ssn(ssn):\n",
    "        \"\"\"Verify if the given ssn fits the expected format\"\"\"\n",
    "\n",
    "        if re.match('\\d{3}-\\d{2}-\\d{4}', ssn) == None:\n",
    "            raise SSNException(\"The does not match the expected pattern\")\n",
    "    \n",
    "    def __init__(self, name, ssn):\n",
    "        \"\"\"Initiate Client with name and social security number\"\"\"\n",
    "        \n",
    "        Client.verify_ssn(ssn)\n",
    "        self.__name = name\n",
    "        self.__ssn = ssn\n",
    "\n",
    "    def __str__(self):\n",
    "        return(\"{} client {} (SSN: {})\".format(self.organization, self.__name, re.sub('\\d{3}-\\d{2}-', 'XXX-XX-', self.__ssn)))\n",
    "\n",
    "\n",
    "# info about @classmethod: https://stackoverflow.com/questions/35686491/why-use-a-classmethod-over-an-instance-method-in-python\n",
    "# think of it like class attribute, but a method\n"
   ]
  },
  {
   "cell_type": "code",
   "execution_count": 98,
   "metadata": {
    "nbgrader": {
     "grade": true,
     "grade_id": "cell-4b185e580de1a6b0",
     "locked": true,
     "points": 1,
     "schema_version": 1,
     "solution": false
    }
   },
   "outputs": [],
   "source": [
    "_client = Client(\"John Doe\", \"123-00-4444\")\n",
    "assert type(_client) is Client\n",
    "\n",
    "try:\n",
    "    _saved_exception = None\n",
    "    Client(\"John Doe\", \"123-00-45AA\")\n",
    "except Exception as _e:\n",
    "    _saved_exception = _e\n",
    "\n",
    "assert type(_saved_exception) is SSNException\n",
    "\n",
    "assert _client.organization == Client.organization"
   ]
  },
  {
   "cell_type": "markdown",
   "metadata": {},
   "source": [
    "## Part D: Creating a Class (1 point)\n",
    "\n",
    "For this exercise we will reuse the code from the Week 2 assignment, namely the classes __BankAccount__ and __DebitAccount__. You will find that they are already defined in this notebook.\n",
    "\n",
    "Define a new class __BankClient__ that inherits from __Client__ class from the previous exercise and that would describe a client of a bank. Set the __organization__ class attribute of __BankClient__ to \"Bank of Bethesda\".\n",
    "\n",
    "Let us extend the capabilities of this class in comparison to its parent. __BankClient__ objects should have a container for one or several accounts compatible with __BankAccount__ interface. We will need a method __add_accounts(self, accounts)__ to assign the bank accounts to a bank client object. The __accounts__ parameter should be a list with one or several __BankAccount__ objects. The software design pattern where an object contains references to other objects is called *composition*, and now you are familiar with it.\n",
    "\n",
    "Additionally, define a method __check_balance__ that will sum up all the balances from the associated accounts and return the resulting value.\n",
    "\n",
    "Optionally, you can redefine __\\_\\_str\\_\\___ method to include the client's balance.\n",
    "\n",
    "Also note that you can now practice \"duck typing\" approach, because both bank account and bank client will have a __check_balance__ function. If it quacks like a duck ...\n",
    "\n",
    "Do not forget about docstrings."
   ]
  },
  {
   "cell_type": "code",
   "execution_count": 99,
   "metadata": {
    "collapsed": true,
    "nbgrader": {
     "grade": false,
     "grade_id": "cell-894ea4206af71f63",
     "locked": true,
     "schema_version": 1,
     "solution": false
    }
   },
   "outputs": [],
   "source": [
    "# Classes from Week 2\n",
    "\n",
    "class BankAccount:\n",
    "    \"\"\" Class that handles bank account operations \"\"\"\n",
    "\n",
    "    def __init__(self):\n",
    "        \"\"\" Initial balance is zero \"\"\"\n",
    "        self.balance = 0.0\n",
    "    \n",
    "    def deposit(self, amount):\n",
    "        \"\"\" Deposit amount to account \"\"\"\n",
    "        self.balance += amount\n",
    "    \n",
    "    def withdraw(self, amount):\n",
    "        \"\"\" Withdraws amount from account \"\"\"\n",
    "        self.balance -= amount\n",
    "    \n",
    "    def check_balance(self):\n",
    "        \"\"\" Returns current balance on account \"\"\"\n",
    "        return self.balance\n",
    "\n",
    "\n",
    "class DebitAccount(BankAccount):\n",
    "    \"\"\" Class that handles debit account operations \"\"\"\n",
    "\n",
    "    def withdraw(self, amount):\n",
    "        \"\"\" Withdraws amount from account only if there are sufficient funds \"\"\"\n",
    "        if self.balance - amount < 0.0:\n",
    "            return False\n",
    "\n",
    "        self.balance -= amount\n",
    "        return True"
   ]
  },
  {
   "cell_type": "code",
   "execution_count": 149,
   "metadata": {
    "nbgrader": {
     "grade": false,
     "grade_id": "cell-dd3dadd69eca7f2d",
     "locked": false,
     "schema_version": 1,
     "solution": true
    }
   },
   "outputs": [],
   "source": [
    "import functools\n",
    "\n",
    "class BankClient(Client):\n",
    "    \"\"\"Class that manages all clients for given bank\"\"\"\n",
    "\n",
    "    organization = \"Bank of Bethesda\"\n",
    "    \n",
    "    def add_accounts(self, accounts):\n",
    "        \"\"\"Create an account for a given client\"\"\"\n",
    "        self.accounts = accounts\n",
    "    \n",
    "    def check_balance(self):\n",
    "        \"\"\"Inform the user of the balance of the client's account balance\"\"\"\n",
    "        return(functools.reduce(lambda x, y: x.balance + y.balance, self.accounts)) # lambda way of summing a list\n",
    "       \n",
    "# all I have to do is figure out how to verify the ssn\n"
   ]
  },
  {
   "cell_type": "code",
   "execution_count": 102,
   "metadata": {
    "nbgrader": {
     "grade": true,
     "grade_id": "cell-2467cadab667f08b",
     "locked": true,
     "points": 1,
     "schema_version": 1,
     "solution": false
    }
   },
   "outputs": [],
   "source": [
    "assert issubclass(BankClient, Client)\n",
    "\n",
    "_client = BankClient(\"John Doe\", \"123-00-4444\")\n",
    "assert type(_client) is BankClient\n",
    "\n",
    "try:\n",
    "    _saved_exception = None\n",
    "    Client(\"John Doe\", \"123-00-45AA\")\n",
    "except Exception as _e:\n",
    "    _saved_exception = _e\n",
    "\n",
    "assert type(_saved_exception) is SSNException\n",
    "\n",
    "assert _client.organization == \"Bank of Bethesda\"\n",
    "\n",
    "assert callable(_client.add_accounts)\n",
    "\n",
    "acc = BankAccount()\n",
    "acc.deposit(100.0)\n",
    "acc.deposit(200.0)\n",
    "acc.withdraw(250.0)\n",
    "\n",
    "debit = DebitAccount()\n",
    "debit.deposit(30.0)\n",
    "debit.deposit(20.0)\n",
    "debit.withdraw(10.0)\n",
    "\n",
    "_client.add_accounts([acc, debit])\n",
    "\n",
    "assert _client.check_balance() == 90.0"
   ]
  },
  {
   "cell_type": "markdown",
   "metadata": {
    "collapsed": true
   },
   "source": [
    "## Part E:  DNA Sequence (not graded)\n",
    "\n",
    "This is a creative assignment that is not graded and is designed to expose you to a more open-ended problem which uses object-oriented approach. In this exercise we will become more familiar with overriding the \"magic\" methods and attributes that correspond to Python operators and are part of the syntax of Python programming language. \n",
    "\n",
    "Create a class for DNA sequence that essentially is an extension on top of the standard Python string class. Let us give it a name DNASequence. We would like it to be an iterator (https://wiki.python.org/moin/Iterator) , i.e. it should implement __\\_]_iter\\_\\_()__ and __next()__ methods.\n",
    "\n",
    "We also want the new class to be reversible, i.e. implement __\\_\\_reversed\\_\\_()__ method. However, it should return a reverse complement DNA sequence (like https://www.bioinformatics.org/sms/rev_comp.html)\n",
    "The __\\_\\_init\\_\\_()__ method should raise ValueError exception if the sequence contains anything else than A T G or C.\n"
   ]
  },
  {
   "cell_type": "code",
   "execution_count": 211,
   "metadata": {
    "nbgrader": {
     "grade": true,
     "grade_id": "cell-fa14022db83dd522",
     "locked": false,
     "points": 0,
     "schema_version": 1,
     "solution": true
    }
   },
   "outputs": [
    {
     "data": {
      "text/plain": [
       "'GT'"
      ]
     },
     "execution_count": 211,
     "metadata": {},
     "output_type": "execute_result"
    }
   ],
   "source": [
    "import functools\n",
    "\n",
    "class DNASequence():\n",
    "    \"\"\"A class that handles DNA strings, built on top of the Python string class\"\"\"\n",
    "    \n",
    "    @staticmethod\n",
    "    def verifyDNA(DNA):\n",
    "        \"\"\"Verify that the DNA sequence contains only A, T, G, or C\"\"\"\n",
    "        \n",
    "        if re.search('[BD-FH-SV-Z]', DNA.upper()) != None: # Check to see if the string contains letters other than ATCG\n",
    "            raise ValueError(\"The DNA does not match the expected pattern\")\n",
    "            \n",
    "    def __init__(self, DNA):\n",
    "        \"\"\"Initiate a DNA sequence\"\"\"\n",
    "        \n",
    "        DNASequence.verifyDNA(DNA)\n",
    "        self.DNA = DNA\n",
    "        self.length = len(DNA)\n",
    "        self.count = 0\n",
    "    \n",
    "    def __iter__(self):\n",
    "        \"\"\"Create iterator object\"\"\"\n",
    "        # Note to self: Built in python objects like lists automatically implement the iterator protocol \n",
    "        # See here for details about building iterators:\n",
    "        #https://stackoverflow.com/questions/19151/build-a-basic-python-iterator\n",
    "        \n",
    "        return(self)\n",
    "    \n",
    "    def __next__(self):\n",
    "        \"\"\"Iterate through the DNA\"\"\"\n",
    "        \n",
    "        self.count += 1\n",
    "        if self.count > self.length:\n",
    "            raise StopIteration(\"You have iterated into oblivion!\")\n",
    "        else:\n",
    "            return(self.DNA[self.count-1])\n",
    "    \n",
    "    def __reversed__(self):\n",
    "        \"\"\"\"Return the reverse complement\"\"\"\n",
    "        \n",
    "        complements = {'C': 'G', 'G':'C', 'A': 'T', 'T': 'A'}\n",
    "        return(\"\".join(reversed(list(complements[base] for base in self.DNA.upper())))) # list is required to get the values in the generator object    \n"
   ]
  },
  {
   "cell_type": "code",
   "execution_count": 208,
   "metadata": {},
   "outputs": [
    {
     "ename": "AssertionError",
     "evalue": "",
     "output_type": "error",
     "traceback": [
      "\u001b[0;31m---------------------------------------------------------------------------\u001b[0m",
      "\u001b[0;31mAssertionError\u001b[0m                            Traceback (most recent call last)",
      "\u001b[0;32m<ipython-input-208-6a2f42cc0416>\u001b[0m in \u001b[0;36m<module>\u001b[0;34m()\u001b[0m\n\u001b[1;32m      4\u001b[0m \u001b[0;32mfor\u001b[0m \u001b[0mbase\u001b[0m\u001b[0;34m,\u001b[0m \u001b[0mrc_base\u001b[0m \u001b[0;32min\u001b[0m \u001b[0mzip\u001b[0m\u001b[0;34m(\u001b[0m\u001b[0mdna\u001b[0m\u001b[0;34m,\u001b[0m \u001b[0mdna\u001b[0m\u001b[0;34m.\u001b[0m\u001b[0m__reversed__\u001b[0m\u001b[0;34m(\u001b[0m\u001b[0;34m)\u001b[0m\u001b[0;34m)\u001b[0m\u001b[0;34m:\u001b[0m\u001b[0;34m\u001b[0m\u001b[0m\n\u001b[1;32m      5\u001b[0m     \u001b[0;32massert\u001b[0m \u001b[0mbase\u001b[0m \u001b[0;32min\u001b[0m \u001b[0mcomplements\u001b[0m\u001b[0;34m.\u001b[0m\u001b[0mkeys\u001b[0m\u001b[0;34m(\u001b[0m\u001b[0;34m)\u001b[0m\u001b[0;34m\u001b[0m\u001b[0m\n\u001b[0;32m----> 6\u001b[0;31m     \u001b[0;32massert\u001b[0m \u001b[0mbase\u001b[0m \u001b[0;34m==\u001b[0m \u001b[0mcomplements\u001b[0m\u001b[0;34m[\u001b[0m\u001b[0mrc_base\u001b[0m\u001b[0;34m]\u001b[0m\u001b[0;34m\u001b[0m\u001b[0m\n\u001b[0m",
      "\u001b[0;31mAssertionError\u001b[0m: "
     ]
    }
   ],
   "source": [
    "\n",
    "dna = DNASequence(\"ATGACACTCCGTGTTTAG\")\n",
    "complements = {'C': 'G', 'G':'C', 'A': 'T', 'T': 'A'}\n",
    "for base, rc_base in zip(dna, dna.__reversed__()):\n",
    "    assert base in complements.keys()\n",
    "    assert base == complements[rc_base] # this test isn't the right test for the job... I think\n"
   ]
  },
  {
   "cell_type": "markdown",
   "metadata": {},
   "source": [
    "## Part F: Implementing defaultdict (not graded)\n",
    "\n",
    "This is the second creative assignment that is also not graded.\n",
    "\n",
    "Create an implementation of an extension to Python dictionary data type that is equivalent to \"defaultdict\"  https://docs.python.org/3/library/collections.html#collections.defaultdict . Read the documentation and implement the same functionality in your code.\n",
    "\n",
    "We will call the new class __NewDict__ and let it inherit from __dict__ class. You need to implement __\\_\\_missing\\_\\_(key)__ method and define __\\_\\_init\\_\\_()__ constructor that accepts a callable \"factory\" for initializing the default values for missing keys in the dictionary.\n",
    "\n",
    "It is a very convenient extension to conventional Python __dict__ that does not require the values to be assegned beforehand, so that you can access values by keys right away as if they have already been initialized. See the examples below.\n",
    "\n",
    "Have fun!"
   ]
  },
  {
   "cell_type": "code",
   "execution_count": 133,
   "metadata": {
    "collapsed": true,
    "nbgrader": {
     "grade": true,
     "grade_id": "cell-2141d87b6a457272",
     "locked": false,
     "points": 0,
     "schema_version": 1,
     "solution": true
    }
   },
   "outputs": [],
   "source": [
    "# YOUR CODE HERE\n",
    "\n"
   ]
  },
  {
   "cell_type": "code",
   "execution_count": 134,
   "metadata": {
    "collapsed": true
   },
   "outputs": [],
   "source": [
    "\"\"\"\n",
    "# Possible use cases:\n",
    "\n",
    "d = NewDict(int)\n",
    "print(d['not existing'] + 5)\n",
    "d['key'] += 4\n",
    "d['key'] += 6\n",
    "print(d['key'])\n",
    "\n",
    "# An dictionary of lists\n",
    "lst = NewDict(list)\n",
    "lst['shopping_list'].append('milk')\n",
    "lst['shopping_list'].append('bread')\n",
    "\n",
    "# A counter for nucleotides\n",
    "cnt = NewDict(int)\n",
    "for i in \"ATGACACTCCGTGTTTAG\":\n",
    "    cnt[i] += 1\n",
    "print(cnt)\n",
    "\n",
    "\"\"\";"
   ]
  },
  {
   "cell_type": "code",
   "execution_count": null,
   "metadata": {
    "collapsed": true
   },
   "outputs": [],
   "source": []
  }
 ],
 "metadata": {
  "celltoolbar": "Create Assignment",
  "kernelspec": {
   "display_name": "Python 3",
   "language": "python",
   "name": "python3"
  },
  "language_info": {
   "codemirror_mode": {
    "name": "ipython",
    "version": 3
   },
   "file_extension": ".py",
   "mimetype": "text/x-python",
   "name": "python",
   "nbconvert_exporter": "python",
   "pygments_lexer": "ipython3",
   "version": "3.6.1"
  }
 },
 "nbformat": 4,
 "nbformat_minor": 2
}
