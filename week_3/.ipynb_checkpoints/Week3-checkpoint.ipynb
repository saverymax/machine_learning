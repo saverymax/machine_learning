{
 "cells": [
  {
   "cell_type": "markdown",
   "metadata": {
    "slideshow": {
     "slide_type": "slide"
    }
   },
   "source": [
    "# Week 3 \n",
    "## Applying Object Oriented Programming concepts in Python\n",
    "\n",
    "Alexander Goncearenco"
   ]
  },
  {
   "cell_type": "markdown",
   "metadata": {
    "slideshow": {
     "slide_type": "slide"
    }
   },
   "source": [
    "## Objectives\n",
    "1. Recap OOP concepts\n",
    "2. Objects in Python, Introspection\n",
    "6. Mixed paradigm programming\n",
    "8. In class assignment"
   ]
  },
  {
   "cell_type": "code",
   "execution_count": 54,
   "metadata": {
    "slideshow": {
     "slide_type": "slide"
    }
   },
   "outputs": [
    {
     "name": "stdout",
     "output_type": "stream",
     "text": [
      "['sauce']\n"
     ]
    }
   ],
   "source": [
    "# Create a ShoppingList with\n",
    "# \n",
    "# 1. pasta\n",
    "# 2. sauce\n",
    "\n",
    "alex_shopping_list = list(('pasta',))\n",
    "alex_shopping_list.append('sauce')\n",
    "del alex_shopping_list[0]\n",
    "print(alex_shopping_list)"
   ]
  },
  {
   "cell_type": "code",
   "execution_count": 33,
   "metadata": {
    "collapsed": true,
    "slideshow": {
     "slide_type": "fragment"
    }
   },
   "outputs": [],
   "source": [
    "# Create a second ShoppingList with\n",
    "# \n",
    "# 1. icecream\n",
    "# 2. milk\n",
    "\n",
    "ayal_shopping_list = ['icecream', 'milk']\n"
   ]
  },
  {
   "cell_type": "code",
   "execution_count": 57,
   "metadata": {
    "collapsed": true,
    "slideshow": {
     "slide_type": "slide"
    }
   },
   "outputs": [],
   "source": [
    "# Let us add some additional attributes for list items:\n",
    "# State: added to cart\n",
    "# State: bought\n",
    "\n",
    "alex_shopping_list_added = [False, False]\n",
    "alex_shopping_list_added[0] = True\n",
    "alex_shopping_list_bought = [False, False]\n",
    "alex_shopping_list_bought[0] = True\n",
    "\n",
    "# what would happen if I add a new item?\n",
    "alex_shopping_list.append('salt')\n",
    "alex_shopping_list_added.append(False)"
   ]
  },
  {
   "cell_type": "code",
   "execution_count": 35,
   "metadata": {
    "collapsed": true,
    "slideshow": {
     "slide_type": "fragment"
    }
   },
   "outputs": [],
   "source": [
    "# Now we also need to initialize the state for Ayal's shopping list\n",
    "ayal_shopping_list_added = [False, False]\n",
    "ayal_shopping_list_bought = [False, False]\n"
   ]
  },
  {
   "cell_type": "code",
   "execution_count": 36,
   "metadata": {
    "collapsed": true,
    "slideshow": {
     "slide_type": "fragment"
    }
   },
   "outputs": [],
   "source": [
    "# Now consider that we need to add a new attribute:\n",
    "# Attribute: quantity\n",
    "# shall we create a new list with attributes?"
   ]
  },
  {
   "cell_type": "code",
   "execution_count": 65,
   "metadata": {
    "slideshow": {
     "slide_type": "slide"
    }
   },
   "outputs": [
    {
     "ename": "KeyError",
     "evalue": "'added'",
     "output_type": "error",
     "traceback": [
      "\u001b[0;31m---------------------------------------------------------------------------\u001b[0m",
      "\u001b[0;31mKeyError\u001b[0m                                  Traceback (most recent call last)",
      "\u001b[0;32m<ipython-input-65-ab5e40de6145>\u001b[0m in \u001b[0;36m<module>\u001b[0;34m()\u001b[0m\n\u001b[1;32m     16\u001b[0m     \u001b[0;34m'item'\u001b[0m\u001b[0;34m:\u001b[0m \u001b[0;34m'icecream'\u001b[0m\u001b[0;34m\u001b[0m\u001b[0m\n\u001b[1;32m     17\u001b[0m })\n\u001b[0;32m---> 18\u001b[0;31m \u001b[0mput_in_cart\u001b[0m\u001b[0;34m(\u001b[0m\u001b[0mshopping_list\u001b[0m\u001b[0;34m,\u001b[0m \u001b[0;36m1\u001b[0m\u001b[0;34m)\u001b[0m\u001b[0;34m\u001b[0m\u001b[0m\n\u001b[0m\u001b[1;32m     19\u001b[0m \u001b[0mprint\u001b[0m\u001b[0;34m(\u001b[0m\u001b[0mshopping_list\u001b[0m\u001b[0;34m)\u001b[0m\u001b[0;34m\u001b[0m\u001b[0m\n",
      "\u001b[0;32m<ipython-input-65-ab5e40de6145>\u001b[0m in \u001b[0;36mput_in_cart\u001b[0;34m(lst, item)\u001b[0m\n\u001b[1;32m      5\u001b[0m \u001b[0;34m\u001b[0m\u001b[0m\n\u001b[1;32m      6\u001b[0m \u001b[0;32mdef\u001b[0m \u001b[0mput_in_cart\u001b[0m\u001b[0;34m(\u001b[0m\u001b[0mlst\u001b[0m\u001b[0;34m,\u001b[0m \u001b[0mitem\u001b[0m\u001b[0;34m)\u001b[0m\u001b[0;34m:\u001b[0m\u001b[0;34m\u001b[0m\u001b[0m\n\u001b[0;32m----> 7\u001b[0;31m     \u001b[0;32mif\u001b[0m \u001b[0mlst\u001b[0m\u001b[0;34m[\u001b[0m\u001b[0mitem\u001b[0m\u001b[0;34m]\u001b[0m\u001b[0;34m[\u001b[0m\u001b[0;34m'added'\u001b[0m\u001b[0;34m]\u001b[0m \u001b[0;32mis\u001b[0m \u001b[0;32mFalse\u001b[0m\u001b[0;34m:\u001b[0m\u001b[0;34m\u001b[0m\u001b[0m\n\u001b[0m\u001b[1;32m      8\u001b[0m         \u001b[0mlst\u001b[0m\u001b[0;34m[\u001b[0m\u001b[0mitem\u001b[0m\u001b[0;34m]\u001b[0m\u001b[0;34m[\u001b[0m\u001b[0;34m'added'\u001b[0m\u001b[0;34m]\u001b[0m \u001b[0;34m=\u001b[0m \u001b[0;32mTrue\u001b[0m\u001b[0;34m\u001b[0m\u001b[0m\n\u001b[1;32m      9\u001b[0m \u001b[0;34m\u001b[0m\u001b[0m\n",
      "\u001b[0;31mKeyError\u001b[0m: 'added'"
     ]
    }
   ],
   "source": [
    "# We can reorganize our code to accomodate these change \n",
    "# - it is called refactoring\n",
    "shopping_list = [ {\n",
    "    'item': 'milk', 'quantity': 1, 'added': False, 'bought': False\n",
    "}, ]\n",
    "\n",
    "def put_in_cart(lst, item):\n",
    "    if lst[item]['added'] is False:\n",
    "        lst[item]['added'] = True\n",
    "\n",
    "# print(shopping_list)\n",
    "put_in_cart(shopping_list, 0)\n",
    "# print(shopping_list)\n",
    "\n",
    "# when adding a new item to the list you need to make sure it is consistent\n",
    "shopping_list.append({\n",
    "    'item': 'icecream'\n",
    "})\n",
    "put_in_cart(shopping_list, 1)\n",
    "print(shopping_list)\n"
   ]
  },
  {
   "cell_type": "code",
   "execution_count": 40,
   "metadata": {
    "collapsed": true,
    "slideshow": {
     "slide_type": "slide"
    }
   },
   "outputs": [],
   "source": [
    "\n",
    "# you will need to add items with a function\n",
    "def add_item(lst, name, quantity, added=False, bought=False):\n",
    "    lst.append({\n",
    "        'item': name,\n",
    "        'quantity': quantity,\n",
    "        'ordered': ordered,\n",
    "        'bought': bought\n",
    "    })\n",
    "\n",
    "# updating quantity would not work either. This would result in duplicate records.\n",
    "shopping_list.append({\n",
    "    'item': 'milk', 'quantity': 1, 'added': False, 'bought': False })\n",
    "# So you may need to convert a list to a dictionary with item names as keys"
   ]
  },
  {
   "cell_type": "markdown",
   "metadata": {
    "slideshow": {
     "slide_type": "slide"
    }
   },
   "source": [
    "Program specifications change, so programs need to be flexible and evolve\n"
   ]
  },
  {
   "cell_type": "markdown",
   "metadata": {
    "slideshow": {
     "slide_type": "fragment"
    }
   },
   "source": [
    "However, excessive flexibility adds unnecessary complexity\n",
    "\n"
   ]
  },
  {
   "cell_type": "markdown",
   "metadata": {
    "slideshow": {
     "slide_type": "fragment"
    }
   },
   "source": [
    "Any optimization, in fact, is excessive if it is not required at this time\n",
    "\n"
   ]
  },
  {
   "cell_type": "markdown",
   "metadata": {
    "slideshow": {
     "slide_type": "fragment"
    }
   },
   "source": [
    "When specifications change, code changes are usually accumulated incrementally\n",
    "\n"
   ]
  },
  {
   "cell_type": "markdown",
   "metadata": {
    "slideshow": {
     "slide_type": "fragment"
    }
   },
   "source": [
    "Refactoring allows to keep code readable and to date according to specifications\n",
    "\n"
   ]
  },
  {
   "cell_type": "markdown",
   "metadata": {
    "slideshow": {
     "slide_type": "fragment"
    }
   },
   "source": [
    "Tests allow to verify that code satisfies to requirements and that new functionality did not break existing functionality\n",
    "\n"
   ]
  },
  {
   "cell_type": "markdown",
   "metadata": {
    "slideshow": {
     "slide_type": "slide"
    }
   },
   "source": [
    "## Namespace conflict:\n",
    "\n",
    "Let's imagine there is a package for working with shopping lists\n",
    "\n",
    "    pip install shopping_list\n",
    "    from shopping_list import add_item, mark_as_ordered\n",
    "\n",
    "\n",
    "This would result in a namespace conflict if you already have add_item() function in your code \n",
    "So you would have to use:\n",
    "\n",
    "    import shopping_list\n",
    "    shopping_list.add_item()\n",
    "    "
   ]
  },
  {
   "cell_type": "markdown",
   "metadata": {
    "slideshow": {
     "slide_type": "slide"
    }
   },
   "source": [
    "There is no simple way to extend functionality of the package.\n",
    "\n",
    "If we override function add_item() to implement updating quantity if item exists the package will still be using the function that is in the package"
   ]
  },
  {
   "cell_type": "markdown",
   "metadata": {
    "slideshow": {
     "slide_type": "fragment"
    }
   },
   "source": [
    "## Code needs to be reusable"
   ]
  },
  {
   "cell_type": "code",
   "execution_count": 76,
   "metadata": {
    "slideshow": {
     "slide_type": "slide"
    }
   },
   "outputs": [
    {
     "name": "stdout",
     "output_type": "stream",
     "text": [
      "[{'in_cart': True, 'item': 'milk', 'quantity': 1},\n",
      " {'in_cart': False, 'item': 'bread', 'quantity': 1}]\n"
     ]
    }
   ],
   "source": [
    "\n",
    "from pprint import pprint\n",
    "\n",
    "\n",
    "class ShoppingList:\n",
    "    \n",
    "    max_items = 10\n",
    "    \n",
    "    def get_max():\n",
    "        return ShoppingList.max_items\n",
    "    \n",
    "    def __init__(self):\n",
    "        self.items = []\n",
    "    \n",
    "    def add_item(self, item_name, quantity):\n",
    "        \"\"\" Adds item to the shopping list \"\"\"\n",
    "        self.items.append({\n",
    "            'item': item_name,\n",
    "            'quantity': quantity,\n",
    "            'in_cart': False\n",
    "        })\n",
    "    \n",
    "    def add_to_cart(self, item_name):\n",
    "        \"\"\" checks item from the shopping list\"\"\"\n",
    "        for item_index, item in enumerate(self.items):\n",
    "            if item['item'] == item_name:\n",
    "                self.items[item_index]['in_cart'] = True\n",
    "    \n",
    "    def print_list(self):\n",
    "        pprint(list(self.items))\n",
    "\n",
    "#################\n",
    "mylist = ShoppingList()\n",
    "mylist.add_item('milk', 1)\n",
    "mylist.add_item('bread', 1)\n",
    "mylist.add_to_cart('milk')\n",
    "mylist.print_list()\n",
    "# print(mylist)"
   ]
  },
  {
   "cell_type": "markdown",
   "metadata": {
    "slideshow": {
     "slide_type": "slide"
    }
   },
   "source": [
    "## Class\n",
    "A template for creating objects that contains data attributes and inner state and methods to manipulate them\n",
    "\n",
    "## Class attributes\n",
    "Variables encapsulated in the class that are defined for all instances of this class.\n",
    "\n",
    "## Class methods\n",
    "Functions encapsulated in the class that can only access class attributes and do not refer to the inner state of instances of the class.\n",
    "\n",
    "## Private attributes and methods\n",
    "Attributes and methods that are not supposed to be accessed directly and/or changed in inheriting classes\n",
    "\n",
    "## Encapsulation\n",
    "Bundling data and functions within a class. Hiding what is not supposed to be accessed directly\n"
   ]
  },
  {
   "cell_type": "code",
   "execution_count": 80,
   "metadata": {
    "slideshow": {
     "slide_type": "slide"
    }
   },
   "outputs": [
    {
     "name": "stdout",
     "output_type": "stream",
     "text": [
      "10\n",
      "10\n",
      "20\n",
      "20\n"
     ]
    }
   ],
   "source": [
    "\n",
    "# Examples of class attributes, methods and private attributes\n",
    "\n",
    "list1 = ShoppingList()\n",
    "list2 = ShoppingList()\n",
    "print(list1.max_items)\n",
    "print(list2.max_items)\n",
    "\n",
    "ShoppingList.max_items = 20\n",
    "\n",
    "print(list1.max_items)\n",
    "print(list2.max_items)\n"
   ]
  },
  {
   "cell_type": "markdown",
   "metadata": {
    "slideshow": {
     "slide_type": "slide"
    }
   },
   "source": [
    "## Object\n",
    "Instance of a class.\n",
    "\n",
    "## Object attributes\n",
    "Attributes that belong to instance of a class.\n",
    "\n",
    "## self\n",
    "Variable referencing the current object\n",
    "\n",
    "## Life cycle of an object\n",
    "Creation, Initialization and Destruction\n",
    "\n",
    "    __new__(), __init__(self), __delete__()\n"
   ]
  },
  {
   "cell_type": "code",
   "execution_count": 43,
   "metadata": {
    "collapsed": true,
    "slideshow": {
     "slide_type": "fragment"
    }
   },
   "outputs": [],
   "source": [
    "# Examples of object attributes, methods and private attributes"
   ]
  },
  {
   "cell_type": "markdown",
   "metadata": {
    "slideshow": {
     "slide_type": "slide"
    }
   },
   "source": [
    "## Inheritance\n",
    "Class hierarchy can be defined. Where Child class inherits from Parent class. Behavior of Parent class can be changed modified in Child class. Thus code can made be reusable. Multiple inheritance is supported.\n",
    "        \n",
    "        class Child(Parent):\n",
    "            def search(self, item):\n",
    "                item = item.lower()\n",
    "                super(Parent, item)\n",
    "\n",
    "           \n",
    "        class Child(Parent1, Parent2):\n",
    "            pass\n",
    "\n",
    "## Polymorphism\n",
    "Changing behavior of parent class: same methods, different implementation. Abstract methods need to be changed. Private attributes and methods should not be changed.\n",
    "\n",
    "\n",
    "## Abstract class\n",
    "Abstract class defines an interface -- the way class is supposed to be used.\n",
    "For instance: abstract class Searcheable may define method search(self, item). However abstract classes do not provide implementation.\n",
    "\n",
    "## Abstract method\n",
    "Provides the signatures: method name and what goes in as arguments. But it does not provide any implementation and has to be overriden in a Child class.\n",
    "\n",
    "        super(class, obj)"
   ]
  },
  {
   "cell_type": "markdown",
   "metadata": {
    "slideshow": {
     "slide_type": "slide"
    }
   },
   "source": [
    "## Class diagram\n",
    "<img src=\"http://www.zentut.com/wp-content/uploads/2013/03/php-inheritance-class-diagram.png\">"
   ]
  },
  {
   "cell_type": "code",
   "execution_count": 44,
   "metadata": {
    "collapsed": true,
    "slideshow": {
     "slide_type": "fragment"
    }
   },
   "outputs": [],
   "source": [
    "class BankAccount:\n",
    "    def __init__(self, accountNumber):\n",
    "        self.accountNumber = accountNumber\n",
    "\n",
    "class CheckingAccount(BankAccount)\n",
    "\n",
    "class SavingsAccount(BankAccount)"
   ]
  },
  {
   "cell_type": "markdown",
   "metadata": {
    "slideshow": {
     "slide_type": "slide"
    }
   },
   "source": [
    "* Variable types in Python are classes\n",
    "* Variables are objects\n",
    "\n",
    "* Every object has an identity, a type and a value. An object's identity never changes once it has been created; you may think of it as the object's address in memory. The 'is' operator compares the identity of two objects; the id() function returns an integer representing its identity."
   ]
  },
  {
   "cell_type": "code",
   "execution_count": 45,
   "metadata": {
    "collapsed": true,
    "slideshow": {
     "slide_type": "fragment"
    }
   },
   "outputs": [],
   "source": [
    "# Examples of type() is and id()"
   ]
  },
  {
   "cell_type": "markdown",
   "metadata": {
    "slideshow": {
     "slide_type": "slide"
    }
   },
   "source": [
    "## duck-typing\n",
    "\n",
    "A programming style which does not look at an object’s type to determine if it has the right interface; instead, the method or attribute is simply called or used (“If it looks like a duck and quacks like a duck, it must be a duck.”) By emphasizing interfaces rather than specific types, well-designed code improves its flexibility by allowing polymorphic substitution. Duck-typing avoids tests using type() or isinstance(). (Note, however, that duck-typing can be complemented with abstract base classes.) Instead, it typically employs hasattr() tests."
   ]
  },
  {
   "cell_type": "markdown",
   "metadata": {
    "slideshow": {
     "slide_type": "slide"
    }
   },
   "source": [
    "An object's type determines the operations that the object supports\n",
    "\n",
    "The value of some objects can change. Objects whose value can change are said to be mutable; objects whose value is unchangeable once they are created are called immutable. \n"
   ]
  },
  {
   "cell_type": "markdown",
   "metadata": {
    "slideshow": {
     "slide_type": "slide"
    }
   },
   "source": [
    " ## The standard type hierarchy\n",
    "    Numbers.Number \n",
    "    Numbers.Integral  (int, bool)\n",
    "    Numbers.Real (float)\n",
    "    Numbers.Complex (complex)\n",
    "\n",
    "    Sequences, Immutable, Strings (str)\n",
    "    Callable:  function,  instance method, built-in function (len), Class\n",
    "    \n",
    "    Exceptions!"
   ]
  },
  {
   "cell_type": "markdown",
   "metadata": {
    "slideshow": {
     "slide_type": "slide"
    }
   },
   "source": [
    "## Special methods and operators in Python\n",
    "\n",
    "    __new__(class,…)\n",
    "    __init__(self,…)\n",
    "    __del__(self, …)\n",
    "    __repr__(self,…)\n",
    "    __str__(self,…)\n",
    "    __eq__(self,…)\n",
    "    __hash__(self,…)\n",
    "    __bool__(self,…)\n",
    "\n",
    "    __getattr__(sef, name)\n",
    "    __setattr__(self, name, val)\n",
    "\n",
    "    __dir__()\n",
    "\n",
    "    __dict__()\n",
    "\n",
    "    \n",
    "    Container:\n",
    "    __contains__(self, item)\n",
    "    __getitem__(self, key)\n",
    "    __len__()\n"
   ]
  },
  {
   "cell_type": "code",
   "execution_count": null,
   "metadata": {
    "collapsed": true,
    "slideshow": {
     "slide_type": "fragment"
    }
   },
   "outputs": [],
   "source": [
    "# implementing special functions"
   ]
  },
  {
   "cell_type": "code",
   "execution_count": 22,
   "metadata": {
    "collapsed": true,
    "slideshow": {
     "slide_type": "slide"
    }
   },
   "outputs": [],
   "source": [
    "# Extending a Python Type\n",
    "import collections\n",
    "\n",
    "class BonusContainer( collections.Container ):\n",
    "    def __init__( self, *members ):\n",
    "        self.members= members + ( 'bonus', )\n",
    "        \n",
    "    def __contains__( self, value ):\n",
    "        return value in self.members\n",
    "    \n",
    "\n",
    "c = BonusContainer(['a', 'b', 'c'])\n",
    "\n",
    "# How to see if the container contains a bonus?\n",
    "# How do we make it iterable?"
   ]
  },
  {
   "cell_type": "markdown",
   "metadata": {},
   "source": [
    "\n",
    "str methods: startswith() endswith(), find(),  format(), split(), splitlines(), strip(), upper(),\n",
    "\n",
    "dict methods:  keys(),  values(), items(), copy(), update(), get()\n"
   ]
  },
  {
   "cell_type": "markdown",
   "metadata": {
    "slideshow": {
     "slide_type": "slide"
    }
   },
   "source": [
    "## Introspection\n",
    "\n",
    "    dir()  \n",
    "    is_class()\n",
    "    is_instance_of()\n",
    "    locals(), globals(), vars(builtins))\n",
    "\n",
    "    __repr__()\n"
   ]
  },
  {
   "cell_type": "code",
   "execution_count": 24,
   "metadata": {
    "collapsed": true,
    "slideshow": {
     "slide_type": "fragment"
    }
   },
   "outputs": [],
   "source": [
    "# "
   ]
  },
  {
   "cell_type": "markdown",
   "metadata": {
    "slideshow": {
     "slide_type": "fragment"
    }
   },
   "source": [
    "Example: working with context manager\n",
    "    \n",
    "    __enter__(self)\n",
    "    __exit__(self, exc_type, exc_value, traceback)\n",
    "    "
   ]
  },
  {
   "cell_type": "code",
   "execution_count": null,
   "metadata": {
    "collapsed": true,
    "slideshow": {
     "slide_type": "fragment"
    }
   },
   "outputs": [],
   "source": []
  }
 ],
 "metadata": {
  "celltoolbar": "Slideshow",
  "kernelspec": {
   "display_name": "Python 3",
   "language": "python",
   "name": "python3"
  },
  "language_info": {
   "codemirror_mode": {
    "name": "ipython",
    "version": 3
   },
   "file_extension": ".py",
   "mimetype": "text/x-python",
   "name": "python",
   "nbconvert_exporter": "python",
   "pygments_lexer": "ipython3",
   "version": "3.6.1"
  }
 },
 "nbformat": 4,
 "nbformat_minor": 2
}
