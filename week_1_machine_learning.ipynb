{
 "cells": [
  {
   "cell_type": "code",
   "execution_count": 18,
   "metadata": {
    "collapsed": false
   },
   "outputs": [],
   "source": [
    "a = \"the quick stuff jumps and stuff\"\n",
    "b = 1234567890.0\n"
   ]
  },
  {
   "cell_type": "code",
   "execution_count": 2,
   "metadata": {
    "collapsed": false
   },
   "outputs": [
    {
     "name": "stdout",
     "output_type": "stream",
     "text": [
      "THE QUICK STUFF JUMPS AND STUFF\n"
     ]
    }
   ],
   "source": [
    "# Print a in all upper case\n",
    "print(a.upper())"
   ]
  },
  {
   "cell_type": "code",
   "execution_count": 6,
   "metadata": {
    "collapsed": false
   },
   "outputs": [
    {
     "name": "stdout",
     "output_type": "stream",
     "text": [
      "teqiksufjmsadsuf\n"
     ]
    }
   ],
   "source": [
    "def CaSe(sentence):\n",
    "    edited_sentence = \"\"\n",
    "    print(sentence[::2])\n",
    "\n",
    "CaSe(a)\n",
    "            "
   ]
  },
  {
   "cell_type": "code",
   "execution_count": 20,
   "metadata": {
    "collapsed": false
   },
   "outputs": [
    {
     "name": "stdout",
     "output_type": "stream",
     "text": [
      "ffuts dna spmuj ffuts kciuq eht\n"
     ]
    }
   ],
   "source": [
    "# Print a in reverse\n",
    "print(a[::-1])"
   ]
  },
  {
   "cell_type": "code",
   "execution_count": 34,
   "metadata": {
    "collapsed": false,
    "scrolled": true
   },
   "outputs": [
    {
     "name": "stdout",
     "output_type": "stream",
     "text": [
      "['the', 'quick', 'stuff', 'jumps', 'and', 'stuff']\n",
      "eht kciuq ffuts spmuj dna ffuts\n"
     ]
    }
   ],
   "source": [
    "# Print a with the words reversed but in the same order\n",
    "words = a.split()\n",
    "# .join reverses .split\n",
    "print(\" \".join(word[::-1]for word in words))"
   ]
  },
  {
   "cell_type": "code",
   "execution_count": 19,
   "metadata": {
    "collapsed": false
   },
   "outputs": [
    {
     "name": "stdout",
     "output_type": "stream",
     "text": [
      "1.2346E+09\n"
     ]
    }
   ],
   "source": [
    "# Print variable b in sci. not. with 4 decimal places \n",
    "print(\"{:.4E}\".format(b))"
   ]
  }
 ],
 "metadata": {
  "anaconda-cloud": {},
  "kernelspec": {
   "display_name": "Python [conda root]",
   "language": "python",
   "name": "conda-root-py"
  },
  "language_info": {
   "codemirror_mode": {
    "name": "ipython",
    "version": 3
   },
   "file_extension": ".py",
   "mimetype": "text/x-python",
   "name": "python",
   "nbconvert_exporter": "python",
   "pygments_lexer": "ipython3",
   "version": "3.5.2"
  }
 },
 "nbformat": 4,
 "nbformat_minor": 2
}
